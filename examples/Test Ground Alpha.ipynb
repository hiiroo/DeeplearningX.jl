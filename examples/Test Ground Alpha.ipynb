{
 "cells": [
  {
   "cell_type": "code",
   "execution_count": 1,
   "metadata": {},
   "outputs": [
    {
     "name": "stderr",
     "output_type": "stream",
     "text": [
      "┌ Info: Precompiling Deeplearning [0d5bc7a0-39dd-11e9-2aab-59c8d4b467de]\n",
      "└ @ Base loading.jl:1186\n",
      "┌ Warning: Package Deeplearning does not have LinearAlgebra in its dependencies:\n",
      "│ - If you have Deeplearning checked out for development and have\n",
      "│   added LinearAlgebra as a dependency but haven't updated your primary\n",
      "│   environment's manifest file, try `Pkg.resolve()`.\n",
      "│ - Otherwise you may need to report an issue with Deeplearning\n",
      "└ Loading LinearAlgebra into Deeplearning from project dependency, future warnings for Deeplearning are suppressed.\n"
     ]
    }
   ],
   "source": [
    "using Deeplearning"
   ]
  },
  {
   "cell_type": "code",
   "execution_count": null,
   "metadata": {},
   "outputs": [],
   "source": [
    "conv1 = convolve"
   ]
  }
 ],
 "metadata": {
  "@webio": {
   "lastCommId": null,
   "lastKernelId": null
  },
  "kernelspec": {
   "display_name": "Julia (4 threads) 1.1.0",
   "language": "julia",
   "name": "julia-(4-threads)-1.1"
  },
  "language_info": {
   "file_extension": ".jl",
   "mimetype": "application/julia",
   "name": "julia",
   "version": "1.1.0"
  }
 },
 "nbformat": 4,
 "nbformat_minor": 2
}
