{
 "cells": [
  {
   "cell_type": "code",
   "execution_count": 1,
   "metadata": {},
   "outputs": [
    {
     "name": "stderr",
     "output_type": "stream",
     "text": [
      "┌ Info: Recompiling stale cache file /Users/aliceylan/.julia/compiled/v1.1/Deeplearning/gtjFf.ji for Deeplearning [0d5bc7a0-39dd-11e9-2aab-59c8d4b467de]\n",
      "└ @ Base loading.jl:1184\n",
      "┌ Warning: Package Deeplearning does not have LinearAlgebra in its dependencies:\n",
      "│ - If you have Deeplearning checked out for development and have\n",
      "│   added LinearAlgebra as a dependency but haven't updated your primary\n",
      "│   environment's manifest file, try `Pkg.resolve()`.\n",
      "│ - Otherwise you may need to report an issue with Deeplearning\n",
      "└ Loading LinearAlgebra into Deeplearning from project dependency, future warnings for Deeplearning are suppressed.\n"
     ]
    },
    {
     "name": "stdout",
     "output_type": "stream",
     "text": [
      "loaded\n"
     ]
    }
   ],
   "source": [
    "using LinearAlgebra\n",
    "using RDatasets\n",
    "using Plots\n",
    "using AutoGrad\n",
    "using Deeplearning"
   ]
  },
  {
   "cell_type": "code",
   "execution_count": 2,
   "metadata": {},
   "outputs": [
    {
     "data": {
      "text/html": [
       "<table class=\"data-frame\"><thead><tr><th></th><th>SepalLength</th><th>SepalWidth</th><th>PetalLength</th><th>PetalWidth</th><th>Species</th></tr><tr><th></th><th>Float64</th><th>Float64</th><th>Float64</th><th>Float64</th><th>Categorical…</th></tr></thead><tbody><p>150 rows × 5 columns</p><tr><th>1</th><td>5.1</td><td>3.5</td><td>1.4</td><td>0.2</td><td>setosa</td></tr><tr><th>2</th><td>4.9</td><td>3.0</td><td>1.4</td><td>0.2</td><td>setosa</td></tr><tr><th>3</th><td>4.7</td><td>3.2</td><td>1.3</td><td>0.2</td><td>setosa</td></tr><tr><th>4</th><td>4.6</td><td>3.1</td><td>1.5</td><td>0.2</td><td>setosa</td></tr><tr><th>5</th><td>5.0</td><td>3.6</td><td>1.4</td><td>0.2</td><td>setosa</td></tr><tr><th>6</th><td>5.4</td><td>3.9</td><td>1.7</td><td>0.4</td><td>setosa</td></tr><tr><th>7</th><td>4.6</td><td>3.4</td><td>1.4</td><td>0.3</td><td>setosa</td></tr><tr><th>8</th><td>5.0</td><td>3.4</td><td>1.5</td><td>0.2</td><td>setosa</td></tr><tr><th>9</th><td>4.4</td><td>2.9</td><td>1.4</td><td>0.2</td><td>setosa</td></tr><tr><th>10</th><td>4.9</td><td>3.1</td><td>1.5</td><td>0.1</td><td>setosa</td></tr><tr><th>11</th><td>5.4</td><td>3.7</td><td>1.5</td><td>0.2</td><td>setosa</td></tr><tr><th>12</th><td>4.8</td><td>3.4</td><td>1.6</td><td>0.2</td><td>setosa</td></tr><tr><th>13</th><td>4.8</td><td>3.0</td><td>1.4</td><td>0.1</td><td>setosa</td></tr><tr><th>14</th><td>4.3</td><td>3.0</td><td>1.1</td><td>0.1</td><td>setosa</td></tr><tr><th>15</th><td>5.8</td><td>4.0</td><td>1.2</td><td>0.2</td><td>setosa</td></tr><tr><th>16</th><td>5.7</td><td>4.4</td><td>1.5</td><td>0.4</td><td>setosa</td></tr><tr><th>17</th><td>5.4</td><td>3.9</td><td>1.3</td><td>0.4</td><td>setosa</td></tr><tr><th>18</th><td>5.1</td><td>3.5</td><td>1.4</td><td>0.3</td><td>setosa</td></tr><tr><th>19</th><td>5.7</td><td>3.8</td><td>1.7</td><td>0.3</td><td>setosa</td></tr><tr><th>20</th><td>5.1</td><td>3.8</td><td>1.5</td><td>0.3</td><td>setosa</td></tr><tr><th>21</th><td>5.4</td><td>3.4</td><td>1.7</td><td>0.2</td><td>setosa</td></tr><tr><th>22</th><td>5.1</td><td>3.7</td><td>1.5</td><td>0.4</td><td>setosa</td></tr><tr><th>23</th><td>4.6</td><td>3.6</td><td>1.0</td><td>0.2</td><td>setosa</td></tr><tr><th>24</th><td>5.1</td><td>3.3</td><td>1.7</td><td>0.5</td><td>setosa</td></tr><tr><th>25</th><td>4.8</td><td>3.4</td><td>1.9</td><td>0.2</td><td>setosa</td></tr><tr><th>26</th><td>5.0</td><td>3.0</td><td>1.6</td><td>0.2</td><td>setosa</td></tr><tr><th>27</th><td>5.0</td><td>3.4</td><td>1.6</td><td>0.4</td><td>setosa</td></tr><tr><th>28</th><td>5.2</td><td>3.5</td><td>1.5</td><td>0.2</td><td>setosa</td></tr><tr><th>29</th><td>5.2</td><td>3.4</td><td>1.4</td><td>0.2</td><td>setosa</td></tr><tr><th>30</th><td>4.7</td><td>3.2</td><td>1.6</td><td>0.2</td><td>setosa</td></tr><tr><th>&vellip;</th><td>&vellip;</td><td>&vellip;</td><td>&vellip;</td><td>&vellip;</td><td>&vellip;</td></tr></tbody></table>"
      ],
      "text/latex": [
       "\\begin{tabular}{r|ccccc}\n",
       "\t& SepalLength & SepalWidth & PetalLength & PetalWidth & Species\\\\\n",
       "\t\\hline\n",
       "\t& Float64 & Float64 & Float64 & Float64 & Categorical…\\\\\n",
       "\t\\hline\n",
       "\t1 & 5.1 & 3.5 & 1.4 & 0.2 & setosa \\\\\n",
       "\t2 & 4.9 & 3.0 & 1.4 & 0.2 & setosa \\\\\n",
       "\t3 & 4.7 & 3.2 & 1.3 & 0.2 & setosa \\\\\n",
       "\t4 & 4.6 & 3.1 & 1.5 & 0.2 & setosa \\\\\n",
       "\t5 & 5.0 & 3.6 & 1.4 & 0.2 & setosa \\\\\n",
       "\t6 & 5.4 & 3.9 & 1.7 & 0.4 & setosa \\\\\n",
       "\t7 & 4.6 & 3.4 & 1.4 & 0.3 & setosa \\\\\n",
       "\t8 & 5.0 & 3.4 & 1.5 & 0.2 & setosa \\\\\n",
       "\t9 & 4.4 & 2.9 & 1.4 & 0.2 & setosa \\\\\n",
       "\t10 & 4.9 & 3.1 & 1.5 & 0.1 & setosa \\\\\n",
       "\t11 & 5.4 & 3.7 & 1.5 & 0.2 & setosa \\\\\n",
       "\t12 & 4.8 & 3.4 & 1.6 & 0.2 & setosa \\\\\n",
       "\t13 & 4.8 & 3.0 & 1.4 & 0.1 & setosa \\\\\n",
       "\t14 & 4.3 & 3.0 & 1.1 & 0.1 & setosa \\\\\n",
       "\t15 & 5.8 & 4.0 & 1.2 & 0.2 & setosa \\\\\n",
       "\t16 & 5.7 & 4.4 & 1.5 & 0.4 & setosa \\\\\n",
       "\t17 & 5.4 & 3.9 & 1.3 & 0.4 & setosa \\\\\n",
       "\t18 & 5.1 & 3.5 & 1.4 & 0.3 & setosa \\\\\n",
       "\t19 & 5.7 & 3.8 & 1.7 & 0.3 & setosa \\\\\n",
       "\t20 & 5.1 & 3.8 & 1.5 & 0.3 & setosa \\\\\n",
       "\t21 & 5.4 & 3.4 & 1.7 & 0.2 & setosa \\\\\n",
       "\t22 & 5.1 & 3.7 & 1.5 & 0.4 & setosa \\\\\n",
       "\t23 & 4.6 & 3.6 & 1.0 & 0.2 & setosa \\\\\n",
       "\t24 & 5.1 & 3.3 & 1.7 & 0.5 & setosa \\\\\n",
       "\t25 & 4.8 & 3.4 & 1.9 & 0.2 & setosa \\\\\n",
       "\t26 & 5.0 & 3.0 & 1.6 & 0.2 & setosa \\\\\n",
       "\t27 & 5.0 & 3.4 & 1.6 & 0.4 & setosa \\\\\n",
       "\t28 & 5.2 & 3.5 & 1.5 & 0.2 & setosa \\\\\n",
       "\t29 & 5.2 & 3.4 & 1.4 & 0.2 & setosa \\\\\n",
       "\t30 & 4.7 & 3.2 & 1.6 & 0.2 & setosa \\\\\n",
       "\t$\\dots$ & $\\dots$ & $\\dots$ & $\\dots$ & $\\dots$ & $\\dots$ \\\\\n",
       "\\end{tabular}\n"
      ],
      "text/plain": [
       "150×5 DataFrame\n",
       "│ Row │ SepalLength │ SepalWidth │ PetalLength │ PetalWidth │ Species      │\n",
       "│     │ \u001b[90mFloat64\u001b[39m     │ \u001b[90mFloat64\u001b[39m    │ \u001b[90mFloat64\u001b[39m     │ \u001b[90mFloat64\u001b[39m    │ \u001b[90mCategorical…\u001b[39m │\n",
       "├─────┼─────────────┼────────────┼─────────────┼────────────┼──────────────┤\n",
       "│ 1   │ 5.1         │ 3.5        │ 1.4         │ 0.2        │ setosa       │\n",
       "│ 2   │ 4.9         │ 3.0        │ 1.4         │ 0.2        │ setosa       │\n",
       "│ 3   │ 4.7         │ 3.2        │ 1.3         │ 0.2        │ setosa       │\n",
       "│ 4   │ 4.6         │ 3.1        │ 1.5         │ 0.2        │ setosa       │\n",
       "│ 5   │ 5.0         │ 3.6        │ 1.4         │ 0.2        │ setosa       │\n",
       "│ 6   │ 5.4         │ 3.9        │ 1.7         │ 0.4        │ setosa       │\n",
       "│ 7   │ 4.6         │ 3.4        │ 1.4         │ 0.3        │ setosa       │\n",
       "│ 8   │ 5.0         │ 3.4        │ 1.5         │ 0.2        │ setosa       │\n",
       "│ 9   │ 4.4         │ 2.9        │ 1.4         │ 0.2        │ setosa       │\n",
       "│ 10  │ 4.9         │ 3.1        │ 1.5         │ 0.1        │ setosa       │\n",
       "⋮\n",
       "│ 140 │ 6.9         │ 3.1        │ 5.4         │ 2.1        │ virginica    │\n",
       "│ 141 │ 6.7         │ 3.1        │ 5.6         │ 2.4        │ virginica    │\n",
       "│ 142 │ 6.9         │ 3.1        │ 5.1         │ 2.3        │ virginica    │\n",
       "│ 143 │ 5.8         │ 2.7        │ 5.1         │ 1.9        │ virginica    │\n",
       "│ 144 │ 6.8         │ 3.2        │ 5.9         │ 2.3        │ virginica    │\n",
       "│ 145 │ 6.7         │ 3.3        │ 5.7         │ 2.5        │ virginica    │\n",
       "│ 146 │ 6.7         │ 3.0        │ 5.2         │ 2.3        │ virginica    │\n",
       "│ 147 │ 6.3         │ 2.5        │ 5.0         │ 1.9        │ virginica    │\n",
       "│ 148 │ 6.5         │ 3.0        │ 5.2         │ 2.0        │ virginica    │\n",
       "│ 149 │ 6.2         │ 3.4        │ 5.4         │ 2.3        │ virginica    │\n",
       "│ 150 │ 5.9         │ 3.0        │ 5.1         │ 1.8        │ virginica    │"
      ]
     },
     "execution_count": 2,
     "metadata": {},
     "output_type": "execute_result"
    }
   ],
   "source": [
    "iris = dataset(\"datasets\", \"iris\")"
   ]
  },
  {
   "cell_type": "code",
   "execution_count": 3,
   "metadata": {},
   "outputs": [
    {
     "data": {
      "text/plain": [
       "(Dict(\"virginica\"=>Float32[0.0, 0.0, 1.0],\"versicolor\"=>Float32[1.0, 0.0, 0.0],\"setosa\"=>Float32[0.0, 1.0, 0.0]), Dict([1, 0, 0]=>\"versicolor\",[0, 0, 1]=>\"virginica\",[0, 1, 0]=>\"setosa\"))"
      ]
     },
     "execution_count": 3,
     "metadata": {},
     "output_type": "execute_result"
    }
   ],
   "source": [
    "d,dr = @onehot iris[1:end, :Species]"
   ]
  },
  {
   "cell_type": "code",
   "execution_count": 4,
   "metadata": {},
   "outputs": [],
   "source": [
    "iris_normalized = nothing\n",
    "for i in 1:4\n",
    "    iris_normalized = iris_normalized == nothing ? iris[1:end,i]./maximum(iris[1:end,i]) : hcat(iris_normalized, iris[1:end,i]./maximum(iris[1:end,i]))\n",
    "end"
   ]
  },
  {
   "cell_type": "code",
   "execution_count": 5,
   "metadata": {},
   "outputs": [
    {
     "data": {
      "text/plain": [
       "150×4 Array{Float64,2}:\n",
       " 0.64557   0.795455  0.202899  0.08\n",
       " 0.620253  0.681818  0.202899  0.08\n",
       " 0.594937  0.727273  0.188406  0.08\n",
       " 0.582278  0.704545  0.217391  0.08\n",
       " 0.632911  0.818182  0.202899  0.08\n",
       " 0.683544  0.886364  0.246377  0.16\n",
       " 0.582278  0.772727  0.202899  0.12\n",
       " 0.632911  0.772727  0.217391  0.08\n",
       " 0.556962  0.659091  0.202899  0.08\n",
       " 0.620253  0.704545  0.217391  0.04\n",
       " 0.683544  0.840909  0.217391  0.08\n",
       " 0.607595  0.772727  0.231884  0.08\n",
       " 0.607595  0.681818  0.202899  0.04\n",
       " ⋮                                 \n",
       " 0.759494  0.681818  0.695652  0.72\n",
       " 0.873418  0.704545  0.782609  0.84\n",
       " 0.848101  0.704545  0.811594  0.96\n",
       " 0.873418  0.704545  0.73913   0.92\n",
       " 0.734177  0.613636  0.73913   0.76\n",
       " 0.860759  0.727273  0.855072  0.92\n",
       " 0.848101  0.75      0.826087  1.0 \n",
       " 0.848101  0.681818  0.753623  0.92\n",
       " 0.797468  0.568182  0.724638  0.76\n",
       " 0.822785  0.681818  0.753623  0.8 \n",
       " 0.78481   0.772727  0.782609  0.92\n",
       " 0.746835  0.681818  0.73913   0.72"
      ]
     },
     "execution_count": 5,
     "metadata": {},
     "output_type": "execute_result"
    }
   ],
   "source": [
    "iris_normalized"
   ]
  },
  {
   "cell_type": "code",
   "execution_count": 6,
   "metadata": {},
   "outputs": [
    {
     "data": {
      "text/plain": [
       "4×150 Adjoint{Float32,CuArrays.CuArray{Float32,2}}:\n",
       " 0.64557   0.620253  0.594937  0.582278  …  0.822785  0.78481   0.746835\n",
       " 0.795455  0.681818  0.727273  0.704545     0.681818  0.772727  0.681818\n",
       " 0.202899  0.202899  0.188406  0.217391     0.753623  0.782609  0.73913 \n",
       " 0.08      0.08      0.08      0.08         0.8       0.92      0.72    "
      ]
     },
     "execution_count": 6,
     "metadata": {},
     "output_type": "execute_result"
    }
   ],
   "source": [
    "iris_gpu = @cudaarray iris_normalized'"
   ]
  },
  {
   "cell_type": "code",
   "execution_count": 7,
   "metadata": {},
   "outputs": [
    {
     "data": {
      "text/plain": [
       "f (generic function with 1 method)"
      ]
     },
     "execution_count": 7,
     "metadata": {},
     "output_type": "execute_result"
    }
   ],
   "source": [
    "input = zeros(4,1)\n",
    "dense1 = @dense input 5\n",
    "dense2 = @dense dense1(input) 3\n",
    "f(x) = sigmoid(dense2(dense1(x)))"
   ]
  },
  {
   "cell_type": "code",
   "execution_count": 8,
   "metadata": {},
   "outputs": [
    {
     "data": {
      "text/plain": [
       "0-element Array{Any,1}"
      ]
     },
     "execution_count": 8,
     "metadata": {},
     "output_type": "execute_result"
    }
   ],
   "source": [
    "acc_plot = []\n",
    "loss_plot = []"
   ]
  },
  {
   "cell_type": "code",
   "execution_count": 9,
   "metadata": {},
   "outputs": [],
   "source": [
    "lrate = 0.1#10e-8\n",
    "alpha = 0.001\n",
    "beta1 = 0.5#0.9\n",
    "beta2 = 0.5#0.999\n",
    "mt = 0\n",
    "vt = 0\n",
    "t = 0\n",
    "for e = 1:100\n",
    "    misfits=0\n",
    "    mean_err=0\n",
    "    t+=1\n",
    "    for i=1:1:size(iris_gpu)[2]\n",
    "        o = f(iris_gpu[1:end,i])\n",
    "        olabel = @onehotdecode dr o\n",
    "        \n",
    "        if(olabel!=iris[i,:Species])\n",
    "           misfits+=1 \n",
    "        end\n",
    "        \n",
    "        err = squared_diff(o, d[iris[i,:Species]])\n",
    "        mean_err+=err\n",
    "        \n",
    "        df = @diff squared_diff(f(iris_gpu[1:end,i]), d[iris[i,:Species]])\n",
    "        params = @parameters df\n",
    "        \n",
    "        for param in params[1:end-1]\n",
    "            dw = grad(df, param)\n",
    "            mt = beta1*mt.+(1-beta1).*dw\n",
    "            vt = beta2*vt.+(1-beta2).*(dw.^2)\n",
    "            mt = mt./(1-beta1^t)\n",
    "            vt = vt./(1-beta2^t)\n",
    "            param .-=alpha.*(mt./(sqrt.(vt).+lrate))\n",
    "        end\n",
    "    end\n",
    "    append!(acc_plot, (1-(misfits/size(iris_gpu)[2]))*100)\n",
    "    append!(loss_plot, mean_err/size(iris_gpu)[2])\n",
    "end"
   ]
  },
  {
   "cell_type": "code",
   "execution_count": 10,
   "metadata": {
    "scrolled": false
   },
   "outputs": [
    {
     "data": {
      "image/svg+xml": [
       "<?xml version=\"1.0\" encoding=\"utf-8\"?>\n",
       "<svg xmlns=\"http://www.w3.org/2000/svg\" xmlns:xlink=\"http://www.w3.org/1999/xlink\" width=\"600\" height=\"400\" viewBox=\"0 0 2400 1600\">\n",
       "<defs>\n",
       "  <clipPath id=\"clip4000\">\n",
       "    <rect x=\"0\" y=\"0\" width=\"2000\" height=\"2000\"/>\n",
       "  </clipPath>\n",
       "</defs>\n",
       "<defs>\n",
       "  <clipPath id=\"clip4001\">\n",
       "    <rect x=\"0\" y=\"0\" width=\"2400\" height=\"1600\"/>\n",
       "  </clipPath>\n",
       "</defs>\n",
       "<polygon clip-path=\"url(#clip4001)\" points=\"\n",
       "0,1600 2400,1600 2400,0 0,0 \n",
       "  \" fill=\"#ffffff\" fill-rule=\"evenodd\" fill-opacity=\"1\"/>\n",
       "<defs>\n",
       "  <clipPath id=\"clip4002\">\n",
       "    <rect x=\"480\" y=\"0\" width=\"1681\" height=\"1600\"/>\n",
       "  </clipPath>\n",
       "</defs>\n",
       "<polygon clip-path=\"url(#clip4001)\" points=\"\n",
       "161.394,1503.47 2321.26,1503.47 2321.26,125.984 161.394,125.984 \n",
       "  \" fill=\"#ffffff\" fill-rule=\"evenodd\" fill-opacity=\"1\"/>\n",
       "<defs>\n",
       "  <clipPath id=\"clip4003\">\n",
       "    <rect x=\"161\" y=\"125\" width=\"2161\" height=\"1378\"/>\n",
       "  </clipPath>\n",
       "</defs>\n",
       "<polyline clip-path=\"url(#clip4003)\" style=\"stroke:#000000; stroke-width:2; stroke-opacity:0.1; fill:none\" points=\"\n",
       "  201.94,1503.47 201.94,125.984 \n",
       "  \"/>\n",
       "<polyline clip-path=\"url(#clip4003)\" style=\"stroke:#000000; stroke-width:2; stroke-opacity:0.1; fill:none\" points=\"\n",
       "  716.488,1503.47 716.488,125.984 \n",
       "  \"/>\n",
       "<polyline clip-path=\"url(#clip4003)\" style=\"stroke:#000000; stroke-width:2; stroke-opacity:0.1; fill:none\" points=\"\n",
       "  1231.04,1503.47 1231.04,125.984 \n",
       "  \"/>\n",
       "<polyline clip-path=\"url(#clip4003)\" style=\"stroke:#000000; stroke-width:2; stroke-opacity:0.1; fill:none\" points=\"\n",
       "  1745.58,1503.47 1745.58,125.984 \n",
       "  \"/>\n",
       "<polyline clip-path=\"url(#clip4003)\" style=\"stroke:#000000; stroke-width:2; stroke-opacity:0.1; fill:none\" points=\"\n",
       "  2260.13,1503.47 2260.13,125.984 \n",
       "  \"/>\n",
       "<polyline clip-path=\"url(#clip4003)\" style=\"stroke:#000000; stroke-width:2; stroke-opacity:0.1; fill:none\" points=\"\n",
       "  161.394,1357.88 2321.26,1357.88 \n",
       "  \"/>\n",
       "<polyline clip-path=\"url(#clip4003)\" style=\"stroke:#000000; stroke-width:2; stroke-opacity:0.1; fill:none\" points=\"\n",
       "  161.394,1069.78 2321.26,1069.78 \n",
       "  \"/>\n",
       "<polyline clip-path=\"url(#clip4003)\" style=\"stroke:#000000; stroke-width:2; stroke-opacity:0.1; fill:none\" points=\"\n",
       "  161.394,781.685 2321.26,781.685 \n",
       "  \"/>\n",
       "<polyline clip-path=\"url(#clip4003)\" style=\"stroke:#000000; stroke-width:2; stroke-opacity:0.1; fill:none\" points=\"\n",
       "  161.394,493.587 2321.26,493.587 \n",
       "  \"/>\n",
       "<polyline clip-path=\"url(#clip4003)\" style=\"stroke:#000000; stroke-width:2; stroke-opacity:0.1; fill:none\" points=\"\n",
       "  161.394,205.489 2321.26,205.489 \n",
       "  \"/>\n",
       "<polyline clip-path=\"url(#clip4001)\" style=\"stroke:#000000; stroke-width:4; stroke-opacity:1; fill:none\" points=\"\n",
       "  161.394,1503.47 2321.26,1503.47 \n",
       "  \"/>\n",
       "<polyline clip-path=\"url(#clip4001)\" style=\"stroke:#000000; stroke-width:4; stroke-opacity:1; fill:none\" points=\"\n",
       "  161.394,1503.47 161.394,125.984 \n",
       "  \"/>\n",
       "<polyline clip-path=\"url(#clip4001)\" style=\"stroke:#000000; stroke-width:4; stroke-opacity:1; fill:none\" points=\"\n",
       "  201.94,1503.47 201.94,1482.81 \n",
       "  \"/>\n",
       "<polyline clip-path=\"url(#clip4001)\" style=\"stroke:#000000; stroke-width:4; stroke-opacity:1; fill:none\" points=\"\n",
       "  716.488,1503.47 716.488,1482.81 \n",
       "  \"/>\n",
       "<polyline clip-path=\"url(#clip4001)\" style=\"stroke:#000000; stroke-width:4; stroke-opacity:1; fill:none\" points=\"\n",
       "  1231.04,1503.47 1231.04,1482.81 \n",
       "  \"/>\n",
       "<polyline clip-path=\"url(#clip4001)\" style=\"stroke:#000000; stroke-width:4; stroke-opacity:1; fill:none\" points=\"\n",
       "  1745.58,1503.47 1745.58,1482.81 \n",
       "  \"/>\n",
       "<polyline clip-path=\"url(#clip4001)\" style=\"stroke:#000000; stroke-width:4; stroke-opacity:1; fill:none\" points=\"\n",
       "  2260.13,1503.47 2260.13,1482.81 \n",
       "  \"/>\n",
       "<polyline clip-path=\"url(#clip4001)\" style=\"stroke:#000000; stroke-width:4; stroke-opacity:1; fill:none\" points=\"\n",
       "  161.394,1357.88 193.792,1357.88 \n",
       "  \"/>\n",
       "<polyline clip-path=\"url(#clip4001)\" style=\"stroke:#000000; stroke-width:4; stroke-opacity:1; fill:none\" points=\"\n",
       "  161.394,1069.78 193.792,1069.78 \n",
       "  \"/>\n",
       "<polyline clip-path=\"url(#clip4001)\" style=\"stroke:#000000; stroke-width:4; stroke-opacity:1; fill:none\" points=\"\n",
       "  161.394,781.685 193.792,781.685 \n",
       "  \"/>\n",
       "<polyline clip-path=\"url(#clip4001)\" style=\"stroke:#000000; stroke-width:4; stroke-opacity:1; fill:none\" points=\"\n",
       "  161.394,493.587 193.792,493.587 \n",
       "  \"/>\n",
       "<polyline clip-path=\"url(#clip4001)\" style=\"stroke:#000000; stroke-width:4; stroke-opacity:1; fill:none\" points=\"\n",
       "  161.394,205.489 193.792,205.489 \n",
       "  \"/>\n",
       "<g clip-path=\"url(#clip4001)\">\n",
       "<text style=\"fill:#000000; fill-opacity:1; font-family:Arial,Helvetica Neue,Helvetica,sans-serif; font-size:48px; text-anchor:middle;\" transform=\"rotate(0, 201.94, 1557.47)\" x=\"201.94\" y=\"1557.47\">0</text>\n",
       "</g>\n",
       "<g clip-path=\"url(#clip4001)\">\n",
       "<text style=\"fill:#000000; fill-opacity:1; font-family:Arial,Helvetica Neue,Helvetica,sans-serif; font-size:48px; text-anchor:middle;\" transform=\"rotate(0, 716.488, 1557.47)\" x=\"716.488\" y=\"1557.47\">25</text>\n",
       "</g>\n",
       "<g clip-path=\"url(#clip4001)\">\n",
       "<text style=\"fill:#000000; fill-opacity:1; font-family:Arial,Helvetica Neue,Helvetica,sans-serif; font-size:48px; text-anchor:middle;\" transform=\"rotate(0, 1231.04, 1557.47)\" x=\"1231.04\" y=\"1557.47\">50</text>\n",
       "</g>\n",
       "<g clip-path=\"url(#clip4001)\">\n",
       "<text style=\"fill:#000000; fill-opacity:1; font-family:Arial,Helvetica Neue,Helvetica,sans-serif; font-size:48px; text-anchor:middle;\" transform=\"rotate(0, 1745.58, 1557.47)\" x=\"1745.58\" y=\"1557.47\">75</text>\n",
       "</g>\n",
       "<g clip-path=\"url(#clip4001)\">\n",
       "<text style=\"fill:#000000; fill-opacity:1; font-family:Arial,Helvetica Neue,Helvetica,sans-serif; font-size:48px; text-anchor:middle;\" transform=\"rotate(0, 2260.13, 1557.47)\" x=\"2260.13\" y=\"1557.47\">100</text>\n",
       "</g>\n",
       "<g clip-path=\"url(#clip4001)\">\n",
       "<text style=\"fill:#000000; fill-opacity:1; font-family:Arial,Helvetica Neue,Helvetica,sans-serif; font-size:48px; text-anchor:end;\" transform=\"rotate(0, 137.394, 1375.38)\" x=\"137.394\" y=\"1375.38\">0.8</text>\n",
       "</g>\n",
       "<g clip-path=\"url(#clip4001)\">\n",
       "<text style=\"fill:#000000; fill-opacity:1; font-family:Arial,Helvetica Neue,Helvetica,sans-serif; font-size:48px; text-anchor:end;\" transform=\"rotate(0, 137.394, 1087.28)\" x=\"137.394\" y=\"1087.28\">1.0</text>\n",
       "</g>\n",
       "<g clip-path=\"url(#clip4001)\">\n",
       "<text style=\"fill:#000000; fill-opacity:1; font-family:Arial,Helvetica Neue,Helvetica,sans-serif; font-size:48px; text-anchor:end;\" transform=\"rotate(0, 137.394, 799.185)\" x=\"137.394\" y=\"799.185\">1.2</text>\n",
       "</g>\n",
       "<g clip-path=\"url(#clip4001)\">\n",
       "<text style=\"fill:#000000; fill-opacity:1; font-family:Arial,Helvetica Neue,Helvetica,sans-serif; font-size:48px; text-anchor:end;\" transform=\"rotate(0, 137.394, 511.087)\" x=\"137.394\" y=\"511.087\">1.4</text>\n",
       "</g>\n",
       "<g clip-path=\"url(#clip4001)\">\n",
       "<text style=\"fill:#000000; fill-opacity:1; font-family:Arial,Helvetica Neue,Helvetica,sans-serif; font-size:48px; text-anchor:end;\" transform=\"rotate(0, 137.394, 222.989)\" x=\"137.394\" y=\"222.989\">1.6</text>\n",
       "</g>\n",
       "<g clip-path=\"url(#clip4001)\">\n",
       "<text style=\"fill:#000000; fill-opacity:1; font-family:Arial,Helvetica Neue,Helvetica,sans-serif; font-size:84px; text-anchor:middle;\" transform=\"rotate(0, 1241.33, 73.2)\" x=\"1241.33\" y=\"73.2\">Loss</text>\n",
       "</g>\n",
       "<polyline clip-path=\"url(#clip4003)\" style=\"stroke:#009af9; stroke-width:8; stroke-opacity:1; fill:none\" points=\"\n",
       "  222.522,164.97 243.104,1090.27 263.686,1205.55 284.268,1298.28 304.85,1369.72 325.432,1418.52 346.014,1447.06 366.596,1460.52 387.178,1464.49 407.76,1463.37 \n",
       "  428.341,1460.01 448.923,1455.97 469.505,1452.01 490.087,1448.45 510.669,1445.37 531.251,1442.79 551.833,1440.65 572.415,1438.89 592.997,1437.46 613.579,1436.3 \n",
       "  634.161,1435.37 654.742,1434.63 675.324,1434.04 695.906,1433.58 716.488,1433.23 737.07,1432.97 757.652,1432.78 778.234,1432.65 798.816,1432.58 819.398,1432.55 \n",
       "  839.98,1432.55 860.562,1432.59 881.143,1432.66 901.725,1432.74 922.307,1432.85 942.889,1432.97 963.471,1433.1 984.053,1433.25 1004.63,1433.41 1025.22,1433.58 \n",
       "  1045.8,1433.76 1066.38,1433.94 1086.96,1434.13 1107.54,1434.33 1128.13,1434.53 1148.71,1434.73 1169.29,1434.94 1189.87,1435.15 1210.45,1435.36 1231.04,1435.58 \n",
       "  1251.62,1435.8 1272.2,1436.02 1292.78,1436.25 1313.36,1436.47 1333.95,1436.7 1354.53,1436.93 1375.11,1437.15 1395.69,1437.39 1416.27,1437.62 1436.86,1437.85 \n",
       "  1457.44,1438.08 1478.02,1438.32 1498.6,1438.55 1519.18,1438.79 1539.76,1439.02 1560.35,1439.26 1580.93,1439.49 1601.51,1439.73 1622.09,1439.97 1642.67,1440.21 \n",
       "  1663.26,1440.45 1683.84,1440.68 1704.42,1440.92 1725,1441.16 1745.58,1441.4 1766.17,1441.64 1786.75,1441.88 1807.33,1442.12 1827.91,1442.36 1848.49,1442.6 \n",
       "  1869.08,1442.84 1889.66,1443.08 1910.24,1443.33 1930.82,1443.57 1951.4,1443.81 1971.98,1444.05 1992.57,1444.29 2013.15,1444.53 2033.73,1444.78 2054.31,1445.02 \n",
       "  2074.89,1445.26 2095.48,1445.5 2116.06,1445.74 2136.64,1445.99 2157.22,1446.23 2177.8,1446.47 2198.39,1446.72 2218.97,1446.96 2239.55,1447.2 2260.13,1447.44 \n",
       "  \n",
       "  \"/>\n",
       "<polygon clip-path=\"url(#clip4001)\" points=\"\n",
       "1958.43,330.464 2249.26,330.464 2249.26,209.504 1958.43,209.504 \n",
       "  \" fill=\"#ffffff\" fill-rule=\"evenodd\" fill-opacity=\"1\"/>\n",
       "<polyline clip-path=\"url(#clip4001)\" style=\"stroke:#000000; stroke-width:4; stroke-opacity:1; fill:none\" points=\"\n",
       "  1958.43,330.464 2249.26,330.464 2249.26,209.504 1958.43,209.504 1958.43,330.464 \n",
       "  \"/>\n",
       "<polyline clip-path=\"url(#clip4001)\" style=\"stroke:#009af9; stroke-width:8; stroke-opacity:1; fill:none\" points=\"\n",
       "  1982.43,269.984 2126.43,269.984 \n",
       "  \"/>\n",
       "<g clip-path=\"url(#clip4001)\">\n",
       "<text style=\"fill:#000000; fill-opacity:1; font-family:Arial,Helvetica Neue,Helvetica,sans-serif; font-size:48px; text-anchor:start;\" transform=\"rotate(0, 2150.43, 287.484)\" x=\"2150.43\" y=\"287.484\">y1</text>\n",
       "</g>\n",
       "</svg>\n"
      ]
     },
     "execution_count": 10,
     "metadata": {},
     "output_type": "execute_result"
    }
   ],
   "source": [
    "plot([loss_plot], linewidth=2, title=\"Loss\")"
   ]
  },
  {
   "cell_type": "code",
   "execution_count": 11,
   "metadata": {},
   "outputs": [
    {
     "data": {
      "image/svg+xml": [
       "<?xml version=\"1.0\" encoding=\"utf-8\"?>\n",
       "<svg xmlns=\"http://www.w3.org/2000/svg\" xmlns:xlink=\"http://www.w3.org/1999/xlink\" width=\"600\" height=\"400\" viewBox=\"0 0 2400 1600\">\n",
       "<defs>\n",
       "  <clipPath id=\"clip4200\">\n",
       "    <rect x=\"0\" y=\"0\" width=\"2000\" height=\"2000\"/>\n",
       "  </clipPath>\n",
       "</defs>\n",
       "<defs>\n",
       "  <clipPath id=\"clip4201\">\n",
       "    <rect x=\"0\" y=\"0\" width=\"2400\" height=\"1600\"/>\n",
       "  </clipPath>\n",
       "</defs>\n",
       "<polygon clip-path=\"url(#clip4201)\" points=\"\n",
       "0,1600 2400,1600 2400,0 0,0 \n",
       "  \" fill=\"#ffffff\" fill-rule=\"evenodd\" fill-opacity=\"1\"/>\n",
       "<defs>\n",
       "  <clipPath id=\"clip4202\">\n",
       "    <rect x=\"480\" y=\"0\" width=\"1681\" height=\"1600\"/>\n",
       "  </clipPath>\n",
       "</defs>\n",
       "<polygon clip-path=\"url(#clip4201)\" points=\"\n",
       "148.013,1503.47 2321.26,1503.47 2321.26,125.984 148.013,125.984 \n",
       "  \" fill=\"#ffffff\" fill-rule=\"evenodd\" fill-opacity=\"1\"/>\n",
       "<defs>\n",
       "  <clipPath id=\"clip4203\">\n",
       "    <rect x=\"148\" y=\"125\" width=\"2174\" height=\"1378\"/>\n",
       "  </clipPath>\n",
       "</defs>\n",
       "<polyline clip-path=\"url(#clip4203)\" style=\"stroke:#000000; stroke-width:2; stroke-opacity:0.1; fill:none\" points=\"\n",
       "  188.81,1503.47 188.81,125.984 \n",
       "  \"/>\n",
       "<polyline clip-path=\"url(#clip4203)\" style=\"stroke:#000000; stroke-width:2; stroke-opacity:0.1; fill:none\" points=\"\n",
       "  706.546,1503.47 706.546,125.984 \n",
       "  \"/>\n",
       "<polyline clip-path=\"url(#clip4203)\" style=\"stroke:#000000; stroke-width:2; stroke-opacity:0.1; fill:none\" points=\"\n",
       "  1224.28,1503.47 1224.28,125.984 \n",
       "  \"/>\n",
       "<polyline clip-path=\"url(#clip4203)\" style=\"stroke:#000000; stroke-width:2; stroke-opacity:0.1; fill:none\" points=\"\n",
       "  1742.02,1503.47 1742.02,125.984 \n",
       "  \"/>\n",
       "<polyline clip-path=\"url(#clip4203)\" style=\"stroke:#000000; stroke-width:2; stroke-opacity:0.1; fill:none\" points=\"\n",
       "  2259.75,1503.47 2259.75,125.984 \n",
       "  \"/>\n",
       "<polyline clip-path=\"url(#clip4203)\" style=\"stroke:#000000; stroke-width:2; stroke-opacity:0.1; fill:none\" points=\"\n",
       "  148.013,1316.82 2321.26,1316.82 \n",
       "  \"/>\n",
       "<polyline clip-path=\"url(#clip4203)\" style=\"stroke:#000000; stroke-width:2; stroke-opacity:0.1; fill:none\" points=\"\n",
       "  148.013,1095.31 2321.26,1095.31 \n",
       "  \"/>\n",
       "<polyline clip-path=\"url(#clip4203)\" style=\"stroke:#000000; stroke-width:2; stroke-opacity:0.1; fill:none\" points=\"\n",
       "  148.013,873.799 2321.26,873.799 \n",
       "  \"/>\n",
       "<polyline clip-path=\"url(#clip4203)\" style=\"stroke:#000000; stroke-width:2; stroke-opacity:0.1; fill:none\" points=\"\n",
       "  148.013,652.29 2321.26,652.29 \n",
       "  \"/>\n",
       "<polyline clip-path=\"url(#clip4203)\" style=\"stroke:#000000; stroke-width:2; stroke-opacity:0.1; fill:none\" points=\"\n",
       "  148.013,430.781 2321.26,430.781 \n",
       "  \"/>\n",
       "<polyline clip-path=\"url(#clip4203)\" style=\"stroke:#000000; stroke-width:2; stroke-opacity:0.1; fill:none\" points=\"\n",
       "  148.013,209.272 2321.26,209.272 \n",
       "  \"/>\n",
       "<polyline clip-path=\"url(#clip4201)\" style=\"stroke:#000000; stroke-width:4; stroke-opacity:1; fill:none\" points=\"\n",
       "  148.013,1503.47 2321.26,1503.47 \n",
       "  \"/>\n",
       "<polyline clip-path=\"url(#clip4201)\" style=\"stroke:#000000; stroke-width:4; stroke-opacity:1; fill:none\" points=\"\n",
       "  148.013,1503.47 148.013,125.984 \n",
       "  \"/>\n",
       "<polyline clip-path=\"url(#clip4201)\" style=\"stroke:#000000; stroke-width:4; stroke-opacity:1; fill:none\" points=\"\n",
       "  188.81,1503.47 188.81,1482.81 \n",
       "  \"/>\n",
       "<polyline clip-path=\"url(#clip4201)\" style=\"stroke:#000000; stroke-width:4; stroke-opacity:1; fill:none\" points=\"\n",
       "  706.546,1503.47 706.546,1482.81 \n",
       "  \"/>\n",
       "<polyline clip-path=\"url(#clip4201)\" style=\"stroke:#000000; stroke-width:4; stroke-opacity:1; fill:none\" points=\"\n",
       "  1224.28,1503.47 1224.28,1482.81 \n",
       "  \"/>\n",
       "<polyline clip-path=\"url(#clip4201)\" style=\"stroke:#000000; stroke-width:4; stroke-opacity:1; fill:none\" points=\"\n",
       "  1742.02,1503.47 1742.02,1482.81 \n",
       "  \"/>\n",
       "<polyline clip-path=\"url(#clip4201)\" style=\"stroke:#000000; stroke-width:4; stroke-opacity:1; fill:none\" points=\"\n",
       "  2259.75,1503.47 2259.75,1482.81 \n",
       "  \"/>\n",
       "<polyline clip-path=\"url(#clip4201)\" style=\"stroke:#000000; stroke-width:4; stroke-opacity:1; fill:none\" points=\"\n",
       "  148.013,1316.82 180.612,1316.82 \n",
       "  \"/>\n",
       "<polyline clip-path=\"url(#clip4201)\" style=\"stroke:#000000; stroke-width:4; stroke-opacity:1; fill:none\" points=\"\n",
       "  148.013,1095.31 180.612,1095.31 \n",
       "  \"/>\n",
       "<polyline clip-path=\"url(#clip4201)\" style=\"stroke:#000000; stroke-width:4; stroke-opacity:1; fill:none\" points=\"\n",
       "  148.013,873.799 180.612,873.799 \n",
       "  \"/>\n",
       "<polyline clip-path=\"url(#clip4201)\" style=\"stroke:#000000; stroke-width:4; stroke-opacity:1; fill:none\" points=\"\n",
       "  148.013,652.29 180.612,652.29 \n",
       "  \"/>\n",
       "<polyline clip-path=\"url(#clip4201)\" style=\"stroke:#000000; stroke-width:4; stroke-opacity:1; fill:none\" points=\"\n",
       "  148.013,430.781 180.612,430.781 \n",
       "  \"/>\n",
       "<polyline clip-path=\"url(#clip4201)\" style=\"stroke:#000000; stroke-width:4; stroke-opacity:1; fill:none\" points=\"\n",
       "  148.013,209.272 180.612,209.272 \n",
       "  \"/>\n",
       "<g clip-path=\"url(#clip4201)\">\n",
       "<text style=\"fill:#000000; fill-opacity:1; font-family:Arial,Helvetica Neue,Helvetica,sans-serif; font-size:48px; text-anchor:middle;\" transform=\"rotate(0, 188.81, 1557.47)\" x=\"188.81\" y=\"1557.47\">0</text>\n",
       "</g>\n",
       "<g clip-path=\"url(#clip4201)\">\n",
       "<text style=\"fill:#000000; fill-opacity:1; font-family:Arial,Helvetica Neue,Helvetica,sans-serif; font-size:48px; text-anchor:middle;\" transform=\"rotate(0, 706.546, 1557.47)\" x=\"706.546\" y=\"1557.47\">25</text>\n",
       "</g>\n",
       "<g clip-path=\"url(#clip4201)\">\n",
       "<text style=\"fill:#000000; fill-opacity:1; font-family:Arial,Helvetica Neue,Helvetica,sans-serif; font-size:48px; text-anchor:middle;\" transform=\"rotate(0, 1224.28, 1557.47)\" x=\"1224.28\" y=\"1557.47\">50</text>\n",
       "</g>\n",
       "<g clip-path=\"url(#clip4201)\">\n",
       "<text style=\"fill:#000000; fill-opacity:1; font-family:Arial,Helvetica Neue,Helvetica,sans-serif; font-size:48px; text-anchor:middle;\" transform=\"rotate(0, 1742.02, 1557.47)\" x=\"1742.02\" y=\"1557.47\">75</text>\n",
       "</g>\n",
       "<g clip-path=\"url(#clip4201)\">\n",
       "<text style=\"fill:#000000; fill-opacity:1; font-family:Arial,Helvetica Neue,Helvetica,sans-serif; font-size:48px; text-anchor:middle;\" transform=\"rotate(0, 2259.75, 1557.47)\" x=\"2259.75\" y=\"1557.47\">100</text>\n",
       "</g>\n",
       "<g clip-path=\"url(#clip4201)\">\n",
       "<text style=\"fill:#000000; fill-opacity:1; font-family:Arial,Helvetica Neue,Helvetica,sans-serif; font-size:48px; text-anchor:end;\" transform=\"rotate(0, 124.013, 1334.32)\" x=\"124.013\" y=\"1334.32\">10</text>\n",
       "</g>\n",
       "<g clip-path=\"url(#clip4201)\">\n",
       "<text style=\"fill:#000000; fill-opacity:1; font-family:Arial,Helvetica Neue,Helvetica,sans-serif; font-size:48px; text-anchor:end;\" transform=\"rotate(0, 124.013, 1112.81)\" x=\"124.013\" y=\"1112.81\">15</text>\n",
       "</g>\n",
       "<g clip-path=\"url(#clip4201)\">\n",
       "<text style=\"fill:#000000; fill-opacity:1; font-family:Arial,Helvetica Neue,Helvetica,sans-serif; font-size:48px; text-anchor:end;\" transform=\"rotate(0, 124.013, 891.299)\" x=\"124.013\" y=\"891.299\">20</text>\n",
       "</g>\n",
       "<g clip-path=\"url(#clip4201)\">\n",
       "<text style=\"fill:#000000; fill-opacity:1; font-family:Arial,Helvetica Neue,Helvetica,sans-serif; font-size:48px; text-anchor:end;\" transform=\"rotate(0, 124.013, 669.79)\" x=\"124.013\" y=\"669.79\">25</text>\n",
       "</g>\n",
       "<g clip-path=\"url(#clip4201)\">\n",
       "<text style=\"fill:#000000; fill-opacity:1; font-family:Arial,Helvetica Neue,Helvetica,sans-serif; font-size:48px; text-anchor:end;\" transform=\"rotate(0, 124.013, 448.281)\" x=\"124.013\" y=\"448.281\">30</text>\n",
       "</g>\n",
       "<g clip-path=\"url(#clip4201)\">\n",
       "<text style=\"fill:#000000; fill-opacity:1; font-family:Arial,Helvetica Neue,Helvetica,sans-serif; font-size:48px; text-anchor:end;\" transform=\"rotate(0, 124.013, 226.772)\" x=\"124.013\" y=\"226.772\">35</text>\n",
       "</g>\n",
       "<g clip-path=\"url(#clip4201)\">\n",
       "<text style=\"fill:#000000; fill-opacity:1; font-family:Arial,Helvetica Neue,Helvetica,sans-serif; font-size:84px; text-anchor:middle;\" transform=\"rotate(0, 1234.64, 73.2)\" x=\"1234.64\" y=\"73.2\">Accuracy</text>\n",
       "</g>\n",
       "<polyline clip-path=\"url(#clip4203)\" style=\"stroke:#009af9; stroke-width:8; stroke-opacity:1; fill:none\" points=\"\n",
       "  209.52,1464.49 230.229,283.108 250.939,283.108 271.648,283.108 292.358,283.108 313.067,283.108 333.776,283.108 354.486,283.108 375.195,283.108 395.905,283.108 \n",
       "  416.614,283.108 437.324,283.108 458.033,283.108 478.742,283.108 499.452,283.108 520.161,283.108 540.871,283.108 561.58,283.108 582.289,283.108 602.999,312.642 \n",
       "  623.708,371.712 644.418,371.712 665.127,371.712 685.837,371.712 706.546,342.177 727.255,342.177 747.965,342.177 768.674,342.177 789.384,342.177 810.093,312.642 \n",
       "  830.803,312.642 851.512,312.642 872.221,283.108 892.931,283.108 913.64,283.108 934.35,283.108 955.059,253.573 975.769,253.573 996.478,253.573 1017.19,253.573 \n",
       "  1037.9,253.573 1058.61,224.039 1079.32,194.504 1100.03,194.504 1120.73,194.504 1141.44,194.504 1162.15,194.504 1182.86,194.504 1203.57,194.504 1224.28,194.504 \n",
       "  1244.99,194.504 1265.7,194.504 1286.41,194.504 1307.12,194.504 1327.83,194.504 1348.54,194.504 1369.25,194.504 1389.96,194.504 1410.67,194.504 1431.38,194.504 \n",
       "  1452.09,194.504 1472.79,194.504 1493.5,194.504 1514.21,194.504 1534.92,194.504 1555.63,194.504 1576.34,194.504 1597.05,194.504 1617.76,164.97 1638.47,164.97 \n",
       "  1659.18,164.97 1679.89,164.97 1700.6,164.97 1721.31,164.97 1742.02,164.97 1762.73,164.97 1783.44,164.97 1804.15,164.97 1824.85,164.97 1845.56,164.97 \n",
       "  1866.27,164.97 1886.98,164.97 1907.69,164.97 1928.4,164.97 1949.11,164.97 1969.82,164.97 1990.53,164.97 2011.24,164.97 2031.95,164.97 2052.66,164.97 \n",
       "  2073.37,164.97 2094.08,164.97 2114.79,164.97 2135.5,164.97 2156.21,164.97 2176.92,164.97 2197.62,164.97 2218.33,164.97 2239.04,164.97 2259.75,164.97 \n",
       "  \n",
       "  \"/>\n",
       "<polygon clip-path=\"url(#clip4201)\" points=\"\n",
       "1958.43,330.464 2249.26,330.464 2249.26,209.504 1958.43,209.504 \n",
       "  \" fill=\"#ffffff\" fill-rule=\"evenodd\" fill-opacity=\"1\"/>\n",
       "<polyline clip-path=\"url(#clip4201)\" style=\"stroke:#000000; stroke-width:4; stroke-opacity:1; fill:none\" points=\"\n",
       "  1958.43,330.464 2249.26,330.464 2249.26,209.504 1958.43,209.504 1958.43,330.464 \n",
       "  \"/>\n",
       "<polyline clip-path=\"url(#clip4201)\" style=\"stroke:#009af9; stroke-width:8; stroke-opacity:1; fill:none\" points=\"\n",
       "  1982.43,269.984 2126.43,269.984 \n",
       "  \"/>\n",
       "<g clip-path=\"url(#clip4201)\">\n",
       "<text style=\"fill:#000000; fill-opacity:1; font-family:Arial,Helvetica Neue,Helvetica,sans-serif; font-size:48px; text-anchor:start;\" transform=\"rotate(0, 2150.43, 287.484)\" x=\"2150.43\" y=\"287.484\">y1</text>\n",
       "</g>\n",
       "</svg>\n"
      ]
     },
     "execution_count": 11,
     "metadata": {},
     "output_type": "execute_result"
    }
   ],
   "source": [
    "plot([acc_plot], linewidth=2, title=\"Accuracy\")"
   ]
  },
  {
   "cell_type": "code",
   "execution_count": 12,
   "metadata": {},
   "outputs": [
    {
     "data": {
      "text/plain": [
       "36.0"
      ]
     },
     "execution_count": 12,
     "metadata": {},
     "output_type": "execute_result"
    }
   ],
   "source": [
    "acc_plot[end]"
   ]
  },
  {
   "cell_type": "code",
   "execution_count": null,
   "metadata": {},
   "outputs": [],
   "source": []
  }
 ],
 "metadata": {
  "kernelspec": {
   "display_name": "Julia 1.1.0",
   "language": "julia",
   "name": "julia-1.1"
  },
  "language_info": {
   "file_extension": ".jl",
   "mimetype": "application/julia",
   "name": "julia",
   "version": "1.1.0"
  }
 },
 "nbformat": 4,
 "nbformat_minor": 2
}
