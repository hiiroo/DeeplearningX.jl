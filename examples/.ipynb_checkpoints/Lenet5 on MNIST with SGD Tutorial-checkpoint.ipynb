{
 "cells": [
  {
   "cell_type": "code",
   "execution_count": null,
   "metadata": {},
   "outputs": [],
   "source": [
    "using AutoGrad\n",
    "using Plots\n",
    "import CSV\n",
    "include(\"deeplearning.jl\")"
   ]
  },
  {
   "cell_type": "code",
   "execution_count": null,
   "metadata": {
    "scrolled": true
   },
   "outputs": [],
   "source": [
    "train = CSV.read(\"datasets/digit-recognizer/train.csv\")\n",
    "test = CSV.read(\"datasets/digit-recognizer/test.csv\")"
   ]
  },
  {
   "cell_type": "code",
   "execution_count": null,
   "metadata": {},
   "outputs": [],
   "source": [
    "d,dr = @onehot train.label"
   ]
  },
  {
   "cell_type": "code",
   "execution_count": null,
   "metadata": {
    "scrolled": true
   },
   "outputs": [],
   "source": [
    "train_normalized = nothing\n",
    "for i in 1:100\n",
    "    normalized = reshape(train[i, 2:end]./(maximum(train[i,2:end])+0.1), (28,28,1,1))\n",
    "    if train_normalized == nothing\n",
    "        train_normalized = normalized\n",
    "    else\n",
    "        train_normalized = cat(train_normalized, normalized, dims=4)\n",
    "    end\n",
    "end"
   ]
  },
  {
   "cell_type": "code",
   "execution_count": null,
   "metadata": {},
   "outputs": [],
   "source": [
    "size(train_normalized)"
   ]
  },
  {
   "cell_type": "code",
   "execution_count": null,
   "metadata": {
    "scrolled": true
   },
   "outputs": [],
   "source": [
    "train_gpu = @cudaarray train_normalized"
   ]
  },
  {
   "cell_type": "code",
   "execution_count": null,
   "metadata": {},
   "outputs": [],
   "source": [
    "input = cu(rand(28, 28, 1))\n",
    "w1 = ((rand(3,3,6).-0.5)./100)\n",
    "w2 = ((rand(3,3,16).-0.5)./100)\n",
    "\n",
    "conv1 = @convolve input w1 (2,2) (1,1)\n",
    "# pool1 = @maxpool conv1(input) (2,2) (1,1) #Replaced poolings with strided convolutions\n",
    "conv2 = @convolve conv1(input) w2 (2,2) (1,1)\n",
    "# pool2 = @maxpool conv2(pool1(conv1(input))) (2,2) (1,1) #Replaced poolings with strided convolutions\n",
    "dense1 = @dense conv2(conv1(input)) 120\n",
    "dense2 = @dense dense1(conv2(conv1(input))) 84\n",
    "dense3 = @dense dense2(dense1(conv2(conv1(input)))) 10\n",
    "layers=[dense3,dense2,dense1,conv2,conv1]"
   ]
  },
  {
   "cell_type": "code",
   "execution_count": null,
   "metadata": {
    "scrolled": true
   },
   "outputs": [],
   "source": [
    "f(x) = softmax(dense3(relu(dense2(relu(dense1((relu(conv2((relu(conv1(x))))))))))))"
   ]
  },
  {
   "cell_type": "code",
   "execution_count": null,
   "metadata": {},
   "outputs": [],
   "source": [
    "acc_plot = []\n",
    "loss_plot = []"
   ]
  },
  {
   "cell_type": "code",
   "execution_count": null,
   "metadata": {
    "scrolled": true
   },
   "outputs": [],
   "source": [
    "dff(x,y) = @diff squared_diff(f(x), y)\n",
    "\n",
    "for e = 1:100\n",
    "    println(\"Epoch \", e)\n",
    "    misfits=0\n",
    "    mean_err=0\n",
    "    for i=1:size(train_gpu)[4]\n",
    "        o = f(train_gpu[:,:,:,i])\n",
    "        olabel = @onehotdecode dr o\n",
    "        \n",
    "        if(olabel == nothing || olabel!=train[i,:label])\n",
    "           misfits+=1 \n",
    "        end\n",
    "        \n",
    "        err = squared_diff(o, d[train[i,:label]])\n",
    "        mean_err+=err\n",
    "        \n",
    "        dv = dff(train_gpu[:,:,:,i], d[train[i,:label]])\n",
    "        dparams = @parameters dv\n",
    "\n",
    "        for pidx in 1:length(dparams[1:end-1])\n",
    "            dw = grad(dv, dparams[pidx])\n",
    "            layers[pidx].matrix .-=0.1*dw\n",
    "        end\n",
    "    end\n",
    "    append!(acc_plot, (1-(misfits/size(train_gpu)[4]))*100)\n",
    "    append!(loss_plot, mean_err/size(train_gpu)[4])\n",
    "end"
   ]
  },
  {
   "cell_type": "raw",
   "metadata": {
    "scrolled": true
   },
   "source": [
    "dff(x,y) = @diff squared_diff(f(x), y)\n",
    "batch_size = 25\n",
    "\n",
    "for e = 1:10\n",
    "    println(\"Epoch \", e)\n",
    "    misfits=0\n",
    "    mean_err=0\n",
    "    for i=1:batch_size:size(train_gpu)[4]\n",
    "        b = train_gpu[:,:,:,i:(i+batch_size-1)]\n",
    "        o = mapslices(x->f(x),train_gpu[:,:,:,i:(i+batch_size-1)],dims=[1,2,3])\n",
    "\n",
    "        olabel = mapslices(x->decodeonehot(dr, x), o, dims=[1,2,3])[:]\n",
    "\n",
    "        misfits+=count((olabel .== nothing) .+ (olabel.!=train[1:(1+batch_size-1),:label]))\n",
    "\n",
    "        ytrues = hcat(map(x->d[x], train[1:batch_size,:label])...)\n",
    "        err = sum([squared_diff(o[:,1,1,ys], ytrues[:,ys]) for ys =1:batch_size])/batch_size\n",
    "        mean_err+=err\n",
    "                \n",
    "        dfs = [dff(train_gpu[:,:,:,eb], ytrues[:,eb]) for eb=1:batch_size]\n",
    "        dparams = [@parameters dfs[eb] for eb=1:batch_size]\n",
    "\n",
    "        dgrads = [[grad(dfs[eb],dparams[eb][ep]) for ep=1:length(dparams[eb])] for eb=1:batch_size]\n",
    "\n",
    "        catted = map(+,dgrads...)\n",
    "        \n",
    "        for pidx in 1:length(layers)\n",
    "            layers[pidx].matrix .-=0.1*catted[pidx]\n",
    "        end\n",
    "    end\n",
    "    append!(acc_plot, (1-(misfits/size(train_gpu)[4]))*100)\n",
    "    append!(loss_plot, mean_err/size(train_gpu)[4])\n",
    "end"
   ]
  },
  {
   "cell_type": "code",
   "execution_count": null,
   "metadata": {},
   "outputs": [],
   "source": [
    "println(acc_plot)\n",
    "println(loss_plot)"
   ]
  },
  {
   "cell_type": "code",
   "execution_count": null,
   "metadata": {
    "scrolled": false
   },
   "outputs": [],
   "source": [
    "plot([acc_plot], linewidth=2, title=\"Accuracy\")"
   ]
  },
  {
   "cell_type": "code",
   "execution_count": null,
   "metadata": {},
   "outputs": [],
   "source": [
    "plot([loss_plot], linewidth=2, title=\"Loss\")"
   ]
  },
  {
   "cell_type": "code",
   "execution_count": null,
   "metadata": {},
   "outputs": [],
   "source": []
  }
 ],
 "metadata": {
  "kernelspec": {
   "display_name": "Julia 1.1.0",
   "language": "julia",
   "name": "julia-1.1"
  },
  "language_info": {
   "file_extension": ".jl",
   "mimetype": "application/julia",
   "name": "julia",
   "version": "1.1.0"
  }
 },
 "nbformat": 4,
 "nbformat_minor": 2
}
