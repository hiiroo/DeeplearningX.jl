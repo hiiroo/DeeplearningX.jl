{
 "cells": [
  {
   "cell_type": "code",
   "execution_count": 1,
   "metadata": {},
   "outputs": [
    {
     "name": "stderr",
     "output_type": "stream",
     "text": [
      "┌ Info: Recompiling stale cache file /Users/aliceylan/.julia/compiled/v1.1/Deeplearning/gtjFf.ji for Deeplearning [0d5bc7a0-39dd-11e9-2aab-59c8d4b467de]\n",
      "└ @ Base loading.jl:1184\n",
      "┌ Warning: Package Deeplearning does not have LinearAlgebra in its dependencies:\n",
      "│ - If you have Deeplearning checked out for development and have\n",
      "│   added LinearAlgebra as a dependency but haven't updated your primary\n",
      "│   environment's manifest file, try `Pkg.resolve()`.\n",
      "│ - Otherwise you may need to report an issue with Deeplearning\n",
      "└ Loading LinearAlgebra into Deeplearning from project dependency, future warnings for Deeplearning are suppressed.\n"
     ]
    },
    {
     "name": "stdout",
     "output_type": "stream",
     "text": [
      "loaded\n"
     ]
    }
   ],
   "source": [
    "using LinearAlgebra\n",
    "using RDatasets\n",
    "using Plots\n",
    "using AutoGrad\n",
    "using Deeplearning"
   ]
  },
  {
   "cell_type": "code",
   "execution_count": 2,
   "metadata": {
    "scrolled": false
   },
   "outputs": [
    {
     "data": {
      "text/html": [
       "<table class=\"data-frame\"><thead><tr><th></th><th>SepalLength</th><th>SepalWidth</th><th>PetalLength</th><th>PetalWidth</th><th>Species</th></tr><tr><th></th><th>Float64</th><th>Float64</th><th>Float64</th><th>Float64</th><th>Categorical…</th></tr></thead><tbody><p>150 rows × 5 columns</p><tr><th>1</th><td>5.1</td><td>3.5</td><td>1.4</td><td>0.2</td><td>setosa</td></tr><tr><th>2</th><td>4.9</td><td>3.0</td><td>1.4</td><td>0.2</td><td>setosa</td></tr><tr><th>3</th><td>4.7</td><td>3.2</td><td>1.3</td><td>0.2</td><td>setosa</td></tr><tr><th>4</th><td>4.6</td><td>3.1</td><td>1.5</td><td>0.2</td><td>setosa</td></tr><tr><th>5</th><td>5.0</td><td>3.6</td><td>1.4</td><td>0.2</td><td>setosa</td></tr><tr><th>6</th><td>5.4</td><td>3.9</td><td>1.7</td><td>0.4</td><td>setosa</td></tr><tr><th>7</th><td>4.6</td><td>3.4</td><td>1.4</td><td>0.3</td><td>setosa</td></tr><tr><th>8</th><td>5.0</td><td>3.4</td><td>1.5</td><td>0.2</td><td>setosa</td></tr><tr><th>9</th><td>4.4</td><td>2.9</td><td>1.4</td><td>0.2</td><td>setosa</td></tr><tr><th>10</th><td>4.9</td><td>3.1</td><td>1.5</td><td>0.1</td><td>setosa</td></tr><tr><th>11</th><td>5.4</td><td>3.7</td><td>1.5</td><td>0.2</td><td>setosa</td></tr><tr><th>12</th><td>4.8</td><td>3.4</td><td>1.6</td><td>0.2</td><td>setosa</td></tr><tr><th>13</th><td>4.8</td><td>3.0</td><td>1.4</td><td>0.1</td><td>setosa</td></tr><tr><th>14</th><td>4.3</td><td>3.0</td><td>1.1</td><td>0.1</td><td>setosa</td></tr><tr><th>15</th><td>5.8</td><td>4.0</td><td>1.2</td><td>0.2</td><td>setosa</td></tr><tr><th>16</th><td>5.7</td><td>4.4</td><td>1.5</td><td>0.4</td><td>setosa</td></tr><tr><th>17</th><td>5.4</td><td>3.9</td><td>1.3</td><td>0.4</td><td>setosa</td></tr><tr><th>18</th><td>5.1</td><td>3.5</td><td>1.4</td><td>0.3</td><td>setosa</td></tr><tr><th>19</th><td>5.7</td><td>3.8</td><td>1.7</td><td>0.3</td><td>setosa</td></tr><tr><th>20</th><td>5.1</td><td>3.8</td><td>1.5</td><td>0.3</td><td>setosa</td></tr><tr><th>21</th><td>5.4</td><td>3.4</td><td>1.7</td><td>0.2</td><td>setosa</td></tr><tr><th>22</th><td>5.1</td><td>3.7</td><td>1.5</td><td>0.4</td><td>setosa</td></tr><tr><th>23</th><td>4.6</td><td>3.6</td><td>1.0</td><td>0.2</td><td>setosa</td></tr><tr><th>24</th><td>5.1</td><td>3.3</td><td>1.7</td><td>0.5</td><td>setosa</td></tr><tr><th>25</th><td>4.8</td><td>3.4</td><td>1.9</td><td>0.2</td><td>setosa</td></tr><tr><th>26</th><td>5.0</td><td>3.0</td><td>1.6</td><td>0.2</td><td>setosa</td></tr><tr><th>27</th><td>5.0</td><td>3.4</td><td>1.6</td><td>0.4</td><td>setosa</td></tr><tr><th>28</th><td>5.2</td><td>3.5</td><td>1.5</td><td>0.2</td><td>setosa</td></tr><tr><th>29</th><td>5.2</td><td>3.4</td><td>1.4</td><td>0.2</td><td>setosa</td></tr><tr><th>30</th><td>4.7</td><td>3.2</td><td>1.6</td><td>0.2</td><td>setosa</td></tr><tr><th>&vellip;</th><td>&vellip;</td><td>&vellip;</td><td>&vellip;</td><td>&vellip;</td><td>&vellip;</td></tr></tbody></table>"
      ],
      "text/latex": [
       "\\begin{tabular}{r|ccccc}\n",
       "\t& SepalLength & SepalWidth & PetalLength & PetalWidth & Species\\\\\n",
       "\t\\hline\n",
       "\t& Float64 & Float64 & Float64 & Float64 & Categorical…\\\\\n",
       "\t\\hline\n",
       "\t1 & 5.1 & 3.5 & 1.4 & 0.2 & setosa \\\\\n",
       "\t2 & 4.9 & 3.0 & 1.4 & 0.2 & setosa \\\\\n",
       "\t3 & 4.7 & 3.2 & 1.3 & 0.2 & setosa \\\\\n",
       "\t4 & 4.6 & 3.1 & 1.5 & 0.2 & setosa \\\\\n",
       "\t5 & 5.0 & 3.6 & 1.4 & 0.2 & setosa \\\\\n",
       "\t6 & 5.4 & 3.9 & 1.7 & 0.4 & setosa \\\\\n",
       "\t7 & 4.6 & 3.4 & 1.4 & 0.3 & setosa \\\\\n",
       "\t8 & 5.0 & 3.4 & 1.5 & 0.2 & setosa \\\\\n",
       "\t9 & 4.4 & 2.9 & 1.4 & 0.2 & setosa \\\\\n",
       "\t10 & 4.9 & 3.1 & 1.5 & 0.1 & setosa \\\\\n",
       "\t11 & 5.4 & 3.7 & 1.5 & 0.2 & setosa \\\\\n",
       "\t12 & 4.8 & 3.4 & 1.6 & 0.2 & setosa \\\\\n",
       "\t13 & 4.8 & 3.0 & 1.4 & 0.1 & setosa \\\\\n",
       "\t14 & 4.3 & 3.0 & 1.1 & 0.1 & setosa \\\\\n",
       "\t15 & 5.8 & 4.0 & 1.2 & 0.2 & setosa \\\\\n",
       "\t16 & 5.7 & 4.4 & 1.5 & 0.4 & setosa \\\\\n",
       "\t17 & 5.4 & 3.9 & 1.3 & 0.4 & setosa \\\\\n",
       "\t18 & 5.1 & 3.5 & 1.4 & 0.3 & setosa \\\\\n",
       "\t19 & 5.7 & 3.8 & 1.7 & 0.3 & setosa \\\\\n",
       "\t20 & 5.1 & 3.8 & 1.5 & 0.3 & setosa \\\\\n",
       "\t21 & 5.4 & 3.4 & 1.7 & 0.2 & setosa \\\\\n",
       "\t22 & 5.1 & 3.7 & 1.5 & 0.4 & setosa \\\\\n",
       "\t23 & 4.6 & 3.6 & 1.0 & 0.2 & setosa \\\\\n",
       "\t24 & 5.1 & 3.3 & 1.7 & 0.5 & setosa \\\\\n",
       "\t25 & 4.8 & 3.4 & 1.9 & 0.2 & setosa \\\\\n",
       "\t26 & 5.0 & 3.0 & 1.6 & 0.2 & setosa \\\\\n",
       "\t27 & 5.0 & 3.4 & 1.6 & 0.4 & setosa \\\\\n",
       "\t28 & 5.2 & 3.5 & 1.5 & 0.2 & setosa \\\\\n",
       "\t29 & 5.2 & 3.4 & 1.4 & 0.2 & setosa \\\\\n",
       "\t30 & 4.7 & 3.2 & 1.6 & 0.2 & setosa \\\\\n",
       "\t$\\dots$ & $\\dots$ & $\\dots$ & $\\dots$ & $\\dots$ & $\\dots$ \\\\\n",
       "\\end{tabular}\n"
      ],
      "text/plain": [
       "150×5 DataFrame\n",
       "│ Row │ SepalLength │ SepalWidth │ PetalLength │ PetalWidth │ Species      │\n",
       "│     │ \u001b[90mFloat64\u001b[39m     │ \u001b[90mFloat64\u001b[39m    │ \u001b[90mFloat64\u001b[39m     │ \u001b[90mFloat64\u001b[39m    │ \u001b[90mCategorical…\u001b[39m │\n",
       "├─────┼─────────────┼────────────┼─────────────┼────────────┼──────────────┤\n",
       "│ 1   │ 5.1         │ 3.5        │ 1.4         │ 0.2        │ setosa       │\n",
       "│ 2   │ 4.9         │ 3.0        │ 1.4         │ 0.2        │ setosa       │\n",
       "│ 3   │ 4.7         │ 3.2        │ 1.3         │ 0.2        │ setosa       │\n",
       "│ 4   │ 4.6         │ 3.1        │ 1.5         │ 0.2        │ setosa       │\n",
       "│ 5   │ 5.0         │ 3.6        │ 1.4         │ 0.2        │ setosa       │\n",
       "│ 6   │ 5.4         │ 3.9        │ 1.7         │ 0.4        │ setosa       │\n",
       "│ 7   │ 4.6         │ 3.4        │ 1.4         │ 0.3        │ setosa       │\n",
       "│ 8   │ 5.0         │ 3.4        │ 1.5         │ 0.2        │ setosa       │\n",
       "│ 9   │ 4.4         │ 2.9        │ 1.4         │ 0.2        │ setosa       │\n",
       "│ 10  │ 4.9         │ 3.1        │ 1.5         │ 0.1        │ setosa       │\n",
       "⋮\n",
       "│ 140 │ 6.9         │ 3.1        │ 5.4         │ 2.1        │ virginica    │\n",
       "│ 141 │ 6.7         │ 3.1        │ 5.6         │ 2.4        │ virginica    │\n",
       "│ 142 │ 6.9         │ 3.1        │ 5.1         │ 2.3        │ virginica    │\n",
       "│ 143 │ 5.8         │ 2.7        │ 5.1         │ 1.9        │ virginica    │\n",
       "│ 144 │ 6.8         │ 3.2        │ 5.9         │ 2.3        │ virginica    │\n",
       "│ 145 │ 6.7         │ 3.3        │ 5.7         │ 2.5        │ virginica    │\n",
       "│ 146 │ 6.7         │ 3.0        │ 5.2         │ 2.3        │ virginica    │\n",
       "│ 147 │ 6.3         │ 2.5        │ 5.0         │ 1.9        │ virginica    │\n",
       "│ 148 │ 6.5         │ 3.0        │ 5.2         │ 2.0        │ virginica    │\n",
       "│ 149 │ 6.2         │ 3.4        │ 5.4         │ 2.3        │ virginica    │\n",
       "│ 150 │ 5.9         │ 3.0        │ 5.1         │ 1.8        │ virginica    │"
      ]
     },
     "execution_count": 2,
     "metadata": {},
     "output_type": "execute_result"
    }
   ],
   "source": [
    "iris = dataset(\"datasets\", \"iris\")"
   ]
  },
  {
   "cell_type": "code",
   "execution_count": 3,
   "metadata": {},
   "outputs": [
    {
     "data": {
      "text/plain": [
       "(Dict(\"virginica\"=>Float32[0.0, 0.0, 1.0],\"versicolor\"=>Float32[1.0, 0.0, 0.0],\"setosa\"=>Float32[0.0, 1.0, 0.0]), Dict([1, 0, 0]=>\"versicolor\",[0, 0, 1]=>\"virginica\",[0, 1, 0]=>\"setosa\"))"
      ]
     },
     "execution_count": 3,
     "metadata": {},
     "output_type": "execute_result"
    }
   ],
   "source": [
    "d,dr = @onehot iris[1:end, :Species]"
   ]
  },
  {
   "cell_type": "code",
   "execution_count": 4,
   "metadata": {},
   "outputs": [],
   "source": [
    "iris_normalized = nothing\n",
    "for i in 1:4\n",
    "    iris_normalized = iris_normalized == nothing ? iris[1:end,i]./maximum(iris[1:end,i]) : hcat(iris_normalized, iris[1:end,i]./maximum(iris[1:end,i]))\n",
    "end"
   ]
  },
  {
   "cell_type": "code",
   "execution_count": 5,
   "metadata": {},
   "outputs": [
    {
     "data": {
      "text/plain": [
       "4×150 Adjoint{Float32,CuArrays.CuArray{Float32,2}}:\n",
       " 0.64557   0.620253  0.594937  0.582278  …  0.822785  0.78481   0.746835\n",
       " 0.795455  0.681818  0.727273  0.704545     0.681818  0.772727  0.681818\n",
       " 0.202899  0.202899  0.188406  0.217391     0.753623  0.782609  0.73913 \n",
       " 0.08      0.08      0.08      0.08         0.8       0.92      0.72    "
      ]
     },
     "execution_count": 5,
     "metadata": {},
     "output_type": "execute_result"
    }
   ],
   "source": [
    "iris_gpu = @cudaarray iris_normalized'"
   ]
  },
  {
   "cell_type": "code",
   "execution_count": 6,
   "metadata": {},
   "outputs": [
    {
     "data": {
      "text/plain": [
       "f (generic function with 1 method)"
      ]
     },
     "execution_count": 6,
     "metadata": {},
     "output_type": "execute_result"
    }
   ],
   "source": [
    "input = zeros(4,1)\n",
    "dense1 = @dense input 5\n",
    "dense2 = @dense dense1(input) 3\n",
    "f(x) = sigmoid(dense2(dense1(x)))"
   ]
  },
  {
   "cell_type": "code",
   "execution_count": 7,
   "metadata": {},
   "outputs": [
    {
     "data": {
      "text/plain": [
       "0-element Array{Any,1}"
      ]
     },
     "execution_count": 7,
     "metadata": {},
     "output_type": "execute_result"
    }
   ],
   "source": [
    "acc_plot = []\n",
    "loss_plot = []"
   ]
  },
  {
   "cell_type": "code",
   "execution_count": 8,
   "metadata": {},
   "outputs": [],
   "source": [
    "for e = 1:100\n",
    "    misfits=0\n",
    "    mean_err=0\n",
    "    for i=1:1:size(iris_gpu)[2]\n",
    "        o = f(iris_gpu[1:end,i])\n",
    "        olabel = @onehotdecode dr o\n",
    "        \n",
    "        if(olabel!=iris[i,:Species])\n",
    "           misfits+=1 \n",
    "        end\n",
    "        \n",
    "        err = squared_diff(o, d[iris[i,:Species]])\n",
    "        mean_err+=err\n",
    "        \n",
    "        df = @diff squared_diff(f(iris_gpu[1:end,i]), d[iris[i,:Species]])\n",
    "        params = @parameters df\n",
    "\n",
    "        for param in params[1:end-1]\n",
    "            dw = grad(df, param)\n",
    "            param .-=0.01*dw\n",
    "        end\n",
    "    end\n",
    "    append!(acc_plot, (1-(misfits/size(iris_gpu)[2]))*100)\n",
    "    append!(loss_plot, mean_err/size(iris_gpu)[2])\n",
    "end"
   ]
  },
  {
   "cell_type": "code",
   "execution_count": 9,
   "metadata": {
    "scrolled": false
   },
   "outputs": [
    {
     "data": {
      "image/svg+xml": [
       "<?xml version=\"1.0\" encoding=\"utf-8\"?>\n",
       "<svg xmlns=\"http://www.w3.org/2000/svg\" xmlns:xlink=\"http://www.w3.org/1999/xlink\" width=\"600\" height=\"400\" viewBox=\"0 0 2400 1600\">\n",
       "<defs>\n",
       "  <clipPath id=\"clip2000\">\n",
       "    <rect x=\"0\" y=\"0\" width=\"2000\" height=\"2000\"/>\n",
       "  </clipPath>\n",
       "</defs>\n",
       "<defs>\n",
       "  <clipPath id=\"clip2001\">\n",
       "    <rect x=\"0\" y=\"0\" width=\"2400\" height=\"1600\"/>\n",
       "  </clipPath>\n",
       "</defs>\n",
       "<polygon clip-path=\"url(#clip2001)\" points=\"\n",
       "0,1600 2400,1600 2400,0 0,0 \n",
       "  \" fill=\"#ffffff\" fill-rule=\"evenodd\" fill-opacity=\"1\"/>\n",
       "<defs>\n",
       "  <clipPath id=\"clip2002\">\n",
       "    <rect x=\"480\" y=\"0\" width=\"1681\" height=\"1600\"/>\n",
       "  </clipPath>\n",
       "</defs>\n",
       "<polygon clip-path=\"url(#clip2001)\" points=\"\n",
       "188.156,1503.47 2321.26,1503.47 2321.26,125.984 188.156,125.984 \n",
       "  \" fill=\"#ffffff\" fill-rule=\"evenodd\" fill-opacity=\"1\"/>\n",
       "<defs>\n",
       "  <clipPath id=\"clip2003\">\n",
       "    <rect x=\"188\" y=\"125\" width=\"2134\" height=\"1378\"/>\n",
       "  </clipPath>\n",
       "</defs>\n",
       "<polyline clip-path=\"url(#clip2003)\" style=\"stroke:#000000; stroke-width:2; stroke-opacity:0.1; fill:none\" points=\"\n",
       "  228.2,1503.47 228.2,125.984 \n",
       "  \"/>\n",
       "<polyline clip-path=\"url(#clip2003)\" style=\"stroke:#000000; stroke-width:2; stroke-opacity:0.1; fill:none\" points=\"\n",
       "  736.373,1503.47 736.373,125.984 \n",
       "  \"/>\n",
       "<polyline clip-path=\"url(#clip2003)\" style=\"stroke:#000000; stroke-width:2; stroke-opacity:0.1; fill:none\" points=\"\n",
       "  1244.54,1503.47 1244.54,125.984 \n",
       "  \"/>\n",
       "<polyline clip-path=\"url(#clip2003)\" style=\"stroke:#000000; stroke-width:2; stroke-opacity:0.1; fill:none\" points=\"\n",
       "  1752.72,1503.47 1752.72,125.984 \n",
       "  \"/>\n",
       "<polyline clip-path=\"url(#clip2003)\" style=\"stroke:#000000; stroke-width:2; stroke-opacity:0.1; fill:none\" points=\"\n",
       "  2260.89,1503.47 2260.89,125.984 \n",
       "  \"/>\n",
       "<polyline clip-path=\"url(#clip2003)\" style=\"stroke:#000000; stroke-width:2; stroke-opacity:0.1; fill:none\" points=\"\n",
       "  188.156,1383.05 2321.26,1383.05 \n",
       "  \"/>\n",
       "<polyline clip-path=\"url(#clip2003)\" style=\"stroke:#000000; stroke-width:2; stroke-opacity:0.1; fill:none\" points=\"\n",
       "  188.156,1114.64 2321.26,1114.64 \n",
       "  \"/>\n",
       "<polyline clip-path=\"url(#clip2003)\" style=\"stroke:#000000; stroke-width:2; stroke-opacity:0.1; fill:none\" points=\"\n",
       "  188.156,846.231 2321.26,846.231 \n",
       "  \"/>\n",
       "<polyline clip-path=\"url(#clip2003)\" style=\"stroke:#000000; stroke-width:2; stroke-opacity:0.1; fill:none\" points=\"\n",
       "  188.156,577.82 2321.26,577.82 \n",
       "  \"/>\n",
       "<polyline clip-path=\"url(#clip2003)\" style=\"stroke:#000000; stroke-width:2; stroke-opacity:0.1; fill:none\" points=\"\n",
       "  188.156,309.41 2321.26,309.41 \n",
       "  \"/>\n",
       "<polyline clip-path=\"url(#clip2001)\" style=\"stroke:#000000; stroke-width:4; stroke-opacity:1; fill:none\" points=\"\n",
       "  188.156,1503.47 2321.26,1503.47 \n",
       "  \"/>\n",
       "<polyline clip-path=\"url(#clip2001)\" style=\"stroke:#000000; stroke-width:4; stroke-opacity:1; fill:none\" points=\"\n",
       "  188.156,1503.47 188.156,125.984 \n",
       "  \"/>\n",
       "<polyline clip-path=\"url(#clip2001)\" style=\"stroke:#000000; stroke-width:4; stroke-opacity:1; fill:none\" points=\"\n",
       "  228.2,1503.47 228.2,1482.81 \n",
       "  \"/>\n",
       "<polyline clip-path=\"url(#clip2001)\" style=\"stroke:#000000; stroke-width:4; stroke-opacity:1; fill:none\" points=\"\n",
       "  736.373,1503.47 736.373,1482.81 \n",
       "  \"/>\n",
       "<polyline clip-path=\"url(#clip2001)\" style=\"stroke:#000000; stroke-width:4; stroke-opacity:1; fill:none\" points=\"\n",
       "  1244.54,1503.47 1244.54,1482.81 \n",
       "  \"/>\n",
       "<polyline clip-path=\"url(#clip2001)\" style=\"stroke:#000000; stroke-width:4; stroke-opacity:1; fill:none\" points=\"\n",
       "  1752.72,1503.47 1752.72,1482.81 \n",
       "  \"/>\n",
       "<polyline clip-path=\"url(#clip2001)\" style=\"stroke:#000000; stroke-width:4; stroke-opacity:1; fill:none\" points=\"\n",
       "  2260.89,1503.47 2260.89,1482.81 \n",
       "  \"/>\n",
       "<polyline clip-path=\"url(#clip2001)\" style=\"stroke:#000000; stroke-width:4; stroke-opacity:1; fill:none\" points=\"\n",
       "  188.156,1383.05 220.153,1383.05 \n",
       "  \"/>\n",
       "<polyline clip-path=\"url(#clip2001)\" style=\"stroke:#000000; stroke-width:4; stroke-opacity:1; fill:none\" points=\"\n",
       "  188.156,1114.64 220.153,1114.64 \n",
       "  \"/>\n",
       "<polyline clip-path=\"url(#clip2001)\" style=\"stroke:#000000; stroke-width:4; stroke-opacity:1; fill:none\" points=\"\n",
       "  188.156,846.231 220.153,846.231 \n",
       "  \"/>\n",
       "<polyline clip-path=\"url(#clip2001)\" style=\"stroke:#000000; stroke-width:4; stroke-opacity:1; fill:none\" points=\"\n",
       "  188.156,577.82 220.153,577.82 \n",
       "  \"/>\n",
       "<polyline clip-path=\"url(#clip2001)\" style=\"stroke:#000000; stroke-width:4; stroke-opacity:1; fill:none\" points=\"\n",
       "  188.156,309.41 220.153,309.41 \n",
       "  \"/>\n",
       "<g clip-path=\"url(#clip2001)\">\n",
       "<text style=\"fill:#000000; fill-opacity:1; font-family:Arial,Helvetica Neue,Helvetica,sans-serif; font-size:48px; text-anchor:middle;\" transform=\"rotate(0, 228.2, 1557.47)\" x=\"228.2\" y=\"1557.47\">0</text>\n",
       "</g>\n",
       "<g clip-path=\"url(#clip2001)\">\n",
       "<text style=\"fill:#000000; fill-opacity:1; font-family:Arial,Helvetica Neue,Helvetica,sans-serif; font-size:48px; text-anchor:middle;\" transform=\"rotate(0, 736.373, 1557.47)\" x=\"736.373\" y=\"1557.47\">25</text>\n",
       "</g>\n",
       "<g clip-path=\"url(#clip2001)\">\n",
       "<text style=\"fill:#000000; fill-opacity:1; font-family:Arial,Helvetica Neue,Helvetica,sans-serif; font-size:48px; text-anchor:middle;\" transform=\"rotate(0, 1244.54, 1557.47)\" x=\"1244.54\" y=\"1557.47\">50</text>\n",
       "</g>\n",
       "<g clip-path=\"url(#clip2001)\">\n",
       "<text style=\"fill:#000000; fill-opacity:1; font-family:Arial,Helvetica Neue,Helvetica,sans-serif; font-size:48px; text-anchor:middle;\" transform=\"rotate(0, 1752.72, 1557.47)\" x=\"1752.72\" y=\"1557.47\">75</text>\n",
       "</g>\n",
       "<g clip-path=\"url(#clip2001)\">\n",
       "<text style=\"fill:#000000; fill-opacity:1; font-family:Arial,Helvetica Neue,Helvetica,sans-serif; font-size:48px; text-anchor:middle;\" transform=\"rotate(0, 2260.89, 1557.47)\" x=\"2260.89\" y=\"1557.47\">100</text>\n",
       "</g>\n",
       "<g clip-path=\"url(#clip2001)\">\n",
       "<text style=\"fill:#000000; fill-opacity:1; font-family:Arial,Helvetica Neue,Helvetica,sans-serif; font-size:48px; text-anchor:end;\" transform=\"rotate(0, 164.156, 1400.55)\" x=\"164.156\" y=\"1400.55\">0.50</text>\n",
       "</g>\n",
       "<g clip-path=\"url(#clip2001)\">\n",
       "<text style=\"fill:#000000; fill-opacity:1; font-family:Arial,Helvetica Neue,Helvetica,sans-serif; font-size:48px; text-anchor:end;\" transform=\"rotate(0, 164.156, 1132.14)\" x=\"164.156\" y=\"1132.14\">0.75</text>\n",
       "</g>\n",
       "<g clip-path=\"url(#clip2001)\">\n",
       "<text style=\"fill:#000000; fill-opacity:1; font-family:Arial,Helvetica Neue,Helvetica,sans-serif; font-size:48px; text-anchor:end;\" transform=\"rotate(0, 164.156, 863.731)\" x=\"164.156\" y=\"863.731\">1.00</text>\n",
       "</g>\n",
       "<g clip-path=\"url(#clip2001)\">\n",
       "<text style=\"fill:#000000; fill-opacity:1; font-family:Arial,Helvetica Neue,Helvetica,sans-serif; font-size:48px; text-anchor:end;\" transform=\"rotate(0, 164.156, 595.32)\" x=\"164.156\" y=\"595.32\">1.25</text>\n",
       "</g>\n",
       "<g clip-path=\"url(#clip2001)\">\n",
       "<text style=\"fill:#000000; fill-opacity:1; font-family:Arial,Helvetica Neue,Helvetica,sans-serif; font-size:48px; text-anchor:end;\" transform=\"rotate(0, 164.156, 326.91)\" x=\"164.156\" y=\"326.91\">1.50</text>\n",
       "</g>\n",
       "<g clip-path=\"url(#clip2001)\">\n",
       "<text style=\"fill:#000000; fill-opacity:1; font-family:Arial,Helvetica Neue,Helvetica,sans-serif; font-size:84px; text-anchor:middle;\" transform=\"rotate(0, 1254.71, 73.2)\" x=\"1254.71\" y=\"73.2\">Loss</text>\n",
       "</g>\n",
       "<polyline clip-path=\"url(#clip2003)\" style=\"stroke:#009af9; stroke-width:8; stroke-opacity:1; fill:none\" points=\"\n",
       "  248.527,164.97 268.854,425.949 289.181,629.484 309.508,728.965 329.835,776.322 350.162,911.275 370.489,1209.28 390.815,1260.72 411.142,1263.54 431.469,1266.07 \n",
       "  451.796,1269.31 472.123,1272.9 492.45,1276.62 512.777,1280.37 533.104,1284.11 553.431,1287.81 573.757,1291.47 594.084,1295.08 614.411,1298.65 634.738,1302.16 \n",
       "  655.065,1305.63 675.392,1309.05 695.719,1312.43 716.046,1315.75 736.373,1319.03 756.699,1322.26 777.026,1325.45 797.353,1328.59 817.68,1331.68 838.007,1334.73 \n",
       "  858.334,1337.73 878.661,1340.69 898.988,1343.6 919.314,1346.47 939.641,1349.3 959.968,1352.08 980.295,1354.82 1000.62,1357.52 1020.95,1360.18 1041.28,1362.8 \n",
       "  1061.6,1365.37 1081.93,1367.91 1102.26,1370.41 1122.58,1372.86 1142.91,1375.29 1163.24,1377.67 1183.56,1380.01 1203.89,1382.32 1224.22,1384.6 1244.54,1386.84 \n",
       "  1264.87,1389.04 1285.2,1391.21 1305.53,1393.34 1325.85,1395.45 1346.18,1397.52 1366.51,1399.55 1386.83,1401.56 1407.16,1403.53 1427.49,1405.48 1447.81,1407.39 \n",
       "  1468.14,1409.28 1488.47,1411.13 1508.79,1412.96 1529.12,1414.76 1549.45,1416.53 1569.77,1418.27 1590.1,1419.99 1610.43,1421.68 1630.76,1423.35 1651.08,1424.99 \n",
       "  1671.41,1426.6 1691.74,1428.2 1712.06,1429.76 1732.39,1431.31 1752.72,1432.83 1773.04,1434.33 1793.37,1435.81 1813.7,1437.26 1834.02,1438.69 1854.35,1440.11 \n",
       "  1874.68,1441.5 1895.01,1442.87 1915.33,1444.22 1935.66,1445.55 1955.99,1446.87 1976.31,1448.16 1996.64,1449.44 2016.97,1450.69 2037.29,1451.93 2057.62,1453.16 \n",
       "  2077.95,1454.36 2098.27,1455.55 2118.6,1456.72 2138.93,1457.88 2159.25,1459.02 2179.58,1460.14 2199.91,1461.25 2220.24,1462.35 2240.56,1463.42 2260.89,1464.49 \n",
       "  \n",
       "  \"/>\n",
       "<polygon clip-path=\"url(#clip2001)\" points=\"\n",
       "1958.43,330.464 2249.26,330.464 2249.26,209.504 1958.43,209.504 \n",
       "  \" fill=\"#ffffff\" fill-rule=\"evenodd\" fill-opacity=\"1\"/>\n",
       "<polyline clip-path=\"url(#clip2001)\" style=\"stroke:#000000; stroke-width:4; stroke-opacity:1; fill:none\" points=\"\n",
       "  1958.43,330.464 2249.26,330.464 2249.26,209.504 1958.43,209.504 1958.43,330.464 \n",
       "  \"/>\n",
       "<polyline clip-path=\"url(#clip2001)\" style=\"stroke:#009af9; stroke-width:8; stroke-opacity:1; fill:none\" points=\"\n",
       "  1982.43,269.984 2126.43,269.984 \n",
       "  \"/>\n",
       "<g clip-path=\"url(#clip2001)\">\n",
       "<text style=\"fill:#000000; fill-opacity:1; font-family:Arial,Helvetica Neue,Helvetica,sans-serif; font-size:48px; text-anchor:start;\" transform=\"rotate(0, 2150.43, 287.484)\" x=\"2150.43\" y=\"287.484\">y1</text>\n",
       "</g>\n",
       "</svg>\n"
      ]
     },
     "execution_count": 9,
     "metadata": {},
     "output_type": "execute_result"
    }
   ],
   "source": [
    "plot([loss_plot], linewidth=2, title=\"Loss\")"
   ]
  },
  {
   "cell_type": "code",
   "execution_count": 10,
   "metadata": {},
   "outputs": [
    {
     "data": {
      "image/svg+xml": [
       "<?xml version=\"1.0\" encoding=\"utf-8\"?>\n",
       "<svg xmlns=\"http://www.w3.org/2000/svg\" xmlns:xlink=\"http://www.w3.org/1999/xlink\" width=\"600\" height=\"400\" viewBox=\"0 0 2400 1600\">\n",
       "<defs>\n",
       "  <clipPath id=\"clip2200\">\n",
       "    <rect x=\"0\" y=\"0\" width=\"2000\" height=\"2000\"/>\n",
       "  </clipPath>\n",
       "</defs>\n",
       "<defs>\n",
       "  <clipPath id=\"clip2201\">\n",
       "    <rect x=\"0\" y=\"0\" width=\"2400\" height=\"1600\"/>\n",
       "  </clipPath>\n",
       "</defs>\n",
       "<polygon clip-path=\"url(#clip2201)\" points=\"\n",
       "0,1600 2400,1600 2400,0 0,0 \n",
       "  \" fill=\"#ffffff\" fill-rule=\"evenodd\" fill-opacity=\"1\"/>\n",
       "<defs>\n",
       "  <clipPath id=\"clip2202\">\n",
       "    <rect x=\"480\" y=\"0\" width=\"1681\" height=\"1600\"/>\n",
       "  </clipPath>\n",
       "</defs>\n",
       "<polygon clip-path=\"url(#clip2201)\" points=\"\n",
       "148.013,1503.47 2321.26,1503.47 2321.26,125.984 148.013,125.984 \n",
       "  \" fill=\"#ffffff\" fill-rule=\"evenodd\" fill-opacity=\"1\"/>\n",
       "<defs>\n",
       "  <clipPath id=\"clip2203\">\n",
       "    <rect x=\"148\" y=\"125\" width=\"2174\" height=\"1378\"/>\n",
       "  </clipPath>\n",
       "</defs>\n",
       "<polyline clip-path=\"url(#clip2203)\" style=\"stroke:#000000; stroke-width:2; stroke-opacity:0.1; fill:none\" points=\"\n",
       "  188.81,1503.47 188.81,125.984 \n",
       "  \"/>\n",
       "<polyline clip-path=\"url(#clip2203)\" style=\"stroke:#000000; stroke-width:2; stroke-opacity:0.1; fill:none\" points=\"\n",
       "  706.546,1503.47 706.546,125.984 \n",
       "  \"/>\n",
       "<polyline clip-path=\"url(#clip2203)\" style=\"stroke:#000000; stroke-width:2; stroke-opacity:0.1; fill:none\" points=\"\n",
       "  1224.28,1503.47 1224.28,125.984 \n",
       "  \"/>\n",
       "<polyline clip-path=\"url(#clip2203)\" style=\"stroke:#000000; stroke-width:2; stroke-opacity:0.1; fill:none\" points=\"\n",
       "  1742.02,1503.47 1742.02,125.984 \n",
       "  \"/>\n",
       "<polyline clip-path=\"url(#clip2203)\" style=\"stroke:#000000; stroke-width:2; stroke-opacity:0.1; fill:none\" points=\"\n",
       "  2259.75,1503.47 2259.75,125.984 \n",
       "  \"/>\n",
       "<polyline clip-path=\"url(#clip2203)\" style=\"stroke:#000000; stroke-width:2; stroke-opacity:0.1; fill:none\" points=\"\n",
       "  148.013,1258.22 2321.26,1258.22 \n",
       "  \"/>\n",
       "<polyline clip-path=\"url(#clip2203)\" style=\"stroke:#000000; stroke-width:2; stroke-opacity:0.1; fill:none\" points=\"\n",
       "  148.013,948.807 2321.26,948.807 \n",
       "  \"/>\n",
       "<polyline clip-path=\"url(#clip2203)\" style=\"stroke:#000000; stroke-width:2; stroke-opacity:0.1; fill:none\" points=\"\n",
       "  148.013,639.398 2321.26,639.398 \n",
       "  \"/>\n",
       "<polyline clip-path=\"url(#clip2203)\" style=\"stroke:#000000; stroke-width:2; stroke-opacity:0.1; fill:none\" points=\"\n",
       "  148.013,329.988 2321.26,329.988 \n",
       "  \"/>\n",
       "<polyline clip-path=\"url(#clip2201)\" style=\"stroke:#000000; stroke-width:4; stroke-opacity:1; fill:none\" points=\"\n",
       "  148.013,1503.47 2321.26,1503.47 \n",
       "  \"/>\n",
       "<polyline clip-path=\"url(#clip2201)\" style=\"stroke:#000000; stroke-width:4; stroke-opacity:1; fill:none\" points=\"\n",
       "  148.013,1503.47 148.013,125.984 \n",
       "  \"/>\n",
       "<polyline clip-path=\"url(#clip2201)\" style=\"stroke:#000000; stroke-width:4; stroke-opacity:1; fill:none\" points=\"\n",
       "  188.81,1503.47 188.81,1482.81 \n",
       "  \"/>\n",
       "<polyline clip-path=\"url(#clip2201)\" style=\"stroke:#000000; stroke-width:4; stroke-opacity:1; fill:none\" points=\"\n",
       "  706.546,1503.47 706.546,1482.81 \n",
       "  \"/>\n",
       "<polyline clip-path=\"url(#clip2201)\" style=\"stroke:#000000; stroke-width:4; stroke-opacity:1; fill:none\" points=\"\n",
       "  1224.28,1503.47 1224.28,1482.81 \n",
       "  \"/>\n",
       "<polyline clip-path=\"url(#clip2201)\" style=\"stroke:#000000; stroke-width:4; stroke-opacity:1; fill:none\" points=\"\n",
       "  1742.02,1503.47 1742.02,1482.81 \n",
       "  \"/>\n",
       "<polyline clip-path=\"url(#clip2201)\" style=\"stroke:#000000; stroke-width:4; stroke-opacity:1; fill:none\" points=\"\n",
       "  2259.75,1503.47 2259.75,1482.81 \n",
       "  \"/>\n",
       "<polyline clip-path=\"url(#clip2201)\" style=\"stroke:#000000; stroke-width:4; stroke-opacity:1; fill:none\" points=\"\n",
       "  148.013,1258.22 180.612,1258.22 \n",
       "  \"/>\n",
       "<polyline clip-path=\"url(#clip2201)\" style=\"stroke:#000000; stroke-width:4; stroke-opacity:1; fill:none\" points=\"\n",
       "  148.013,948.807 180.612,948.807 \n",
       "  \"/>\n",
       "<polyline clip-path=\"url(#clip2201)\" style=\"stroke:#000000; stroke-width:4; stroke-opacity:1; fill:none\" points=\"\n",
       "  148.013,639.398 180.612,639.398 \n",
       "  \"/>\n",
       "<polyline clip-path=\"url(#clip2201)\" style=\"stroke:#000000; stroke-width:4; stroke-opacity:1; fill:none\" points=\"\n",
       "  148.013,329.988 180.612,329.988 \n",
       "  \"/>\n",
       "<g clip-path=\"url(#clip2201)\">\n",
       "<text style=\"fill:#000000; fill-opacity:1; font-family:Arial,Helvetica Neue,Helvetica,sans-serif; font-size:48px; text-anchor:middle;\" transform=\"rotate(0, 188.81, 1557.47)\" x=\"188.81\" y=\"1557.47\">0</text>\n",
       "</g>\n",
       "<g clip-path=\"url(#clip2201)\">\n",
       "<text style=\"fill:#000000; fill-opacity:1; font-family:Arial,Helvetica Neue,Helvetica,sans-serif; font-size:48px; text-anchor:middle;\" transform=\"rotate(0, 706.546, 1557.47)\" x=\"706.546\" y=\"1557.47\">25</text>\n",
       "</g>\n",
       "<g clip-path=\"url(#clip2201)\">\n",
       "<text style=\"fill:#000000; fill-opacity:1; font-family:Arial,Helvetica Neue,Helvetica,sans-serif; font-size:48px; text-anchor:middle;\" transform=\"rotate(0, 1224.28, 1557.47)\" x=\"1224.28\" y=\"1557.47\">50</text>\n",
       "</g>\n",
       "<g clip-path=\"url(#clip2201)\">\n",
       "<text style=\"fill:#000000; fill-opacity:1; font-family:Arial,Helvetica Neue,Helvetica,sans-serif; font-size:48px; text-anchor:middle;\" transform=\"rotate(0, 1742.02, 1557.47)\" x=\"1742.02\" y=\"1557.47\">75</text>\n",
       "</g>\n",
       "<g clip-path=\"url(#clip2201)\">\n",
       "<text style=\"fill:#000000; fill-opacity:1; font-family:Arial,Helvetica Neue,Helvetica,sans-serif; font-size:48px; text-anchor:middle;\" transform=\"rotate(0, 2259.75, 1557.47)\" x=\"2259.75\" y=\"1557.47\">100</text>\n",
       "</g>\n",
       "<g clip-path=\"url(#clip2201)\">\n",
       "<text style=\"fill:#000000; fill-opacity:1; font-family:Arial,Helvetica Neue,Helvetica,sans-serif; font-size:48px; text-anchor:end;\" transform=\"rotate(0, 124.013, 1275.72)\" x=\"124.013\" y=\"1275.72\">40</text>\n",
       "</g>\n",
       "<g clip-path=\"url(#clip2201)\">\n",
       "<text style=\"fill:#000000; fill-opacity:1; font-family:Arial,Helvetica Neue,Helvetica,sans-serif; font-size:48px; text-anchor:end;\" transform=\"rotate(0, 124.013, 966.307)\" x=\"124.013\" y=\"966.307\">50</text>\n",
       "</g>\n",
       "<g clip-path=\"url(#clip2201)\">\n",
       "<text style=\"fill:#000000; fill-opacity:1; font-family:Arial,Helvetica Neue,Helvetica,sans-serif; font-size:48px; text-anchor:end;\" transform=\"rotate(0, 124.013, 656.898)\" x=\"124.013\" y=\"656.898\">60</text>\n",
       "</g>\n",
       "<g clip-path=\"url(#clip2201)\">\n",
       "<text style=\"fill:#000000; fill-opacity:1; font-family:Arial,Helvetica Neue,Helvetica,sans-serif; font-size:48px; text-anchor:end;\" transform=\"rotate(0, 124.013, 347.488)\" x=\"124.013\" y=\"347.488\">70</text>\n",
       "</g>\n",
       "<g clip-path=\"url(#clip2201)\">\n",
       "<text style=\"fill:#000000; fill-opacity:1; font-family:Arial,Helvetica Neue,Helvetica,sans-serif; font-size:84px; text-anchor:middle;\" transform=\"rotate(0, 1234.64, 73.2)\" x=\"1234.64\" y=\"73.2\">Accuracy</text>\n",
       "</g>\n",
       "<polyline clip-path=\"url(#clip2203)\" style=\"stroke:#009af9; stroke-width:8; stroke-opacity:1; fill:none\" points=\"\n",
       "  209.52,1464.49 230.229,1464.49 250.939,1464.49 271.648,1464.49 292.358,1464.49 313.067,1464.49 333.776,701.279 354.486,1072.57 375.195,1340.73 395.905,1340.73 \n",
       "  416.614,1340.73 437.324,1340.73 458.033,1299.47 478.742,1237.59 499.452,1237.59 520.161,1134.45 540.871,1051.94 561.58,1031.32 582.289,1010.69 602.999,948.807 \n",
       "  623.708,886.925 644.418,845.67 665.127,763.161 685.837,742.534 706.546,660.025 727.255,536.261 747.965,536.261 768.674,474.379 789.384,412.497 810.093,371.243 \n",
       "  830.803,309.361 851.512,309.361 872.221,268.106 892.931,268.106 913.64,268.106 934.35,268.106 955.059,268.106 975.769,268.106 996.478,268.106 1017.19,268.106 \n",
       "  1037.9,268.106 1058.61,268.106 1079.32,247.479 1100.03,268.106 1120.73,268.106 1141.44,268.106 1162.15,268.106 1182.86,268.106 1203.57,247.479 1224.28,247.479 \n",
       "  1244.99,226.852 1265.7,226.852 1286.41,226.852 1307.12,226.852 1327.83,226.852 1348.54,226.852 1369.25,226.852 1389.96,226.852 1410.67,226.852 1431.38,226.852 \n",
       "  1452.09,226.852 1472.79,206.224 1493.5,206.224 1514.21,206.224 1534.92,206.224 1555.63,206.224 1576.34,206.224 1597.05,206.224 1617.76,206.224 1638.47,206.224 \n",
       "  1659.18,206.224 1679.89,206.224 1700.6,206.224 1721.31,185.597 1742.02,185.597 1762.73,185.597 1783.44,185.597 1804.15,185.597 1824.85,185.597 1845.56,185.597 \n",
       "  1866.27,185.597 1886.98,185.597 1907.69,185.597 1928.4,185.597 1949.11,185.597 1969.82,185.597 1990.53,185.597 2011.24,185.597 2031.95,164.97 2052.66,164.97 \n",
       "  2073.37,164.97 2094.08,164.97 2114.79,164.97 2135.5,164.97 2156.21,164.97 2176.92,164.97 2197.62,164.97 2218.33,164.97 2239.04,164.97 2259.75,164.97 \n",
       "  \n",
       "  \"/>\n",
       "<polygon clip-path=\"url(#clip2201)\" points=\"\n",
       "1958.43,330.464 2249.26,330.464 2249.26,209.504 1958.43,209.504 \n",
       "  \" fill=\"#ffffff\" fill-rule=\"evenodd\" fill-opacity=\"1\"/>\n",
       "<polyline clip-path=\"url(#clip2201)\" style=\"stroke:#000000; stroke-width:4; stroke-opacity:1; fill:none\" points=\"\n",
       "  1958.43,330.464 2249.26,330.464 2249.26,209.504 1958.43,209.504 1958.43,330.464 \n",
       "  \"/>\n",
       "<polyline clip-path=\"url(#clip2201)\" style=\"stroke:#009af9; stroke-width:8; stroke-opacity:1; fill:none\" points=\"\n",
       "  1982.43,269.984 2126.43,269.984 \n",
       "  \"/>\n",
       "<g clip-path=\"url(#clip2201)\">\n",
       "<text style=\"fill:#000000; fill-opacity:1; font-family:Arial,Helvetica Neue,Helvetica,sans-serif; font-size:48px; text-anchor:start;\" transform=\"rotate(0, 2150.43, 287.484)\" x=\"2150.43\" y=\"287.484\">y1</text>\n",
       "</g>\n",
       "</svg>\n"
      ]
     },
     "execution_count": 10,
     "metadata": {},
     "output_type": "execute_result"
    }
   ],
   "source": [
    "plot([acc_plot], linewidth=2, title=\"Accuracy\")"
   ]
  },
  {
   "cell_type": "code",
   "execution_count": 11,
   "metadata": {},
   "outputs": [
    {
     "data": {
      "text/plain": [
       "75.33333333333333"
      ]
     },
     "execution_count": 11,
     "metadata": {},
     "output_type": "execute_result"
    }
   ],
   "source": [
    "acc_plot[end]"
   ]
  },
  {
   "cell_type": "code",
   "execution_count": null,
   "metadata": {},
   "outputs": [],
   "source": []
  }
 ],
 "metadata": {
  "kernelspec": {
   "display_name": "Julia 1.1.0",
   "language": "julia",
   "name": "julia-1.1"
  },
  "language_info": {
   "file_extension": ".jl",
   "mimetype": "application/julia",
   "name": "julia",
   "version": "1.1.0"
  }
 },
 "nbformat": 4,
 "nbformat_minor": 2
}
