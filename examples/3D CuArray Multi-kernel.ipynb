{
 "cells": [
  {
   "cell_type": "code",
   "execution_count": 1,
   "metadata": {},
   "outputs": [
    {
     "name": "stderr",
     "output_type": "stream",
     "text": [
      "┌ Info: Recompiling stale cache file /Users/aliceylan/.julia/compiled/v1.1/Deeplearning/gtjFf.ji for Deeplearning [0d5bc7a0-39dd-11e9-2aab-59c8d4b467de]\n",
      "└ @ Base loading.jl:1184\n",
      "┌ Warning: Package Deeplearning does not have LinearAlgebra in its dependencies:\n",
      "│ - If you have Deeplearning checked out for development and have\n",
      "│   added LinearAlgebra as a dependency but haven't updated your primary\n",
      "│   environment's manifest file, try `Pkg.resolve()`.\n",
      "│ - Otherwise you may need to report an issue with Deeplearning\n",
      "└ Loading LinearAlgebra into Deeplearning from project dependency, future warnings for Deeplearning are suppressed.\n"
     ]
    }
   ],
   "source": [
    "using Deeplearning"
   ]
  },
  {
   "cell_type": "code",
   "execution_count": 7,
   "metadata": {},
   "outputs": [
    {
     "data": {
      "text/plain": [
       "3×3×3 Array{Float64,3}:\n",
       "[:, :, 1] =\n",
       " 0.00524573  0.407297  0.593761\n",
       " 0.0518513   0.877859  0.390593\n",
       " 0.790278    0.720547  0.574674\n",
       "\n",
       "[:, :, 2] =\n",
       " 0.191585  0.371957  0.18207 \n",
       " 0.540981  0.49089   0.541355\n",
       " 0.161998  0.594792  0.75627 \n",
       "\n",
       "[:, :, 3] =\n",
       " 0.15104   0.356743  0.971886\n",
       " 0.307744  0.616872  0.653001\n",
       " 0.479576  0.972836  0.227096"
      ]
     },
     "execution_count": 7,
     "metadata": {},
     "output_type": "execute_result"
    }
   ],
   "source": [
    "w1 = rand(3,3,4)\n",
    "w2 = rand(3,3,3)"
   ]
  },
  {
   "cell_type": "code",
   "execution_count": 8,
   "metadata": {},
   "outputs": [
    {
     "data": {
      "text/plain": [
       "8×8×1 CuArrays.CuArray{Float32,3}:\n",
       "[:, :, 1] =\n",
       " 0.0275692   0.129       0.956319  0.841442  …  0.254409   0.988412  0.107098\n",
       " 0.00271435  0.00505507  0.752136  0.15251      0.771755   0.559411  0.868547\n",
       " 0.482633    0.940119    0.275433  0.288655     0.426524   0.28743   0.528396\n",
       " 0.408691    0.301027    0.727767  0.888894     0.5286     0.224978  0.308286\n",
       " 0.584906    0.05797     0.114777  0.90127      0.0934458  0.746705  0.801008\n",
       " 0.00534382  0.617293    0.115509  0.772882  …  0.695968   0.512847  0.599576\n",
       " 0.581239    0.179023    0.386696  0.158282     0.129785   0.827405  0.570812\n",
       " 0.811275    0.163913    0.636745  0.223354     0.944181   0.932225  0.600647"
      ]
     },
     "execution_count": 8,
     "metadata": {},
     "output_type": "execute_result"
    }
   ],
   "source": [
    "i = rand(8,8,1)\n",
    "i = @cudaarray permutedims(i, (2,1,3))"
   ]
  },
  {
   "cell_type": "code",
   "execution_count": 9,
   "metadata": {},
   "outputs": [
    {
     "data": {
      "text/plain": [
       "f (generic function with 1 method)"
      ]
     },
     "execution_count": 9,
     "metadata": {},
     "output_type": "execute_result"
    }
   ],
   "source": [
    "conv1 = @convolve i w1 (1,1) (1,1)\n",
    "conv2 = @convolve conv1(i) w2 (1,1) (1,1)\n",
    "pool1 = @maxpool conv2(conv1(i)) (2,2) (1,1)\n",
    "f(x) = pool1(conv2(conv1(x)))"
   ]
  },
  {
   "cell_type": "code",
   "execution_count": 10,
   "metadata": {},
   "outputs": [
    {
     "name": "stdout",
     "output_type": "stream",
     "text": [
      "o1 = Float32[14.513 14.3968; 13.4278 13.9937]\n",
      "\n",
      "Float32[15.5349 15.5825; 13.5504 14.9934]\n",
      "\n",
      "Float32[7.39498 6.86324; 7.20734 6.92539]\n",
      "\n",
      "Float32[11.052 11.9821; 10.2678 10.7751]\n",
      "\n",
      "Float32[12.7388 12.3976; 12.0192 12.509]\n",
      "\n",
      "Float32[13.3593 13.4774; 12.0722 13.1097]\n",
      "\n",
      "Float32[6.45028 5.76299; 6.46448 6.34166]\n",
      "\n",
      "Float32[9.84813 10.0433; 9.01684 9.71195]\n",
      "\n",
      "Float32[15.2726 15.5881; 14.6142 14.8895]\n",
      "\n",
      "Float32[16.1809 16.6506; 15.2265 15.7739]\n",
      "\n",
      "Float32[8.054 7.262; 7.59803 7.48025]\n",
      "\n",
      "Float32[11.9205 12.4448; 11.4736 11.6334]\n"
     ]
    },
    {
     "data": {
      "text/plain": [
       "2×2×12 CuArrays.CuArray{Float32,3}:\n",
       "[:, :, 1] =\n",
       " 14.513   14.3968\n",
       " 13.4278  13.9937\n",
       "\n",
       "[:, :, 2] =\n",
       " 15.5349  15.5825\n",
       " 13.5504  14.9934\n",
       "\n",
       "[:, :, 3] =\n",
       " 7.39498  6.86324\n",
       " 7.20734  6.92539\n",
       "\n",
       "...\n",
       "\n",
       "[:, :, 10] =\n",
       " 16.1809  16.6506\n",
       " 15.2265  15.7739\n",
       "\n",
       "[:, :, 11] =\n",
       " 8.054    7.262  \n",
       " 7.59803  7.48025\n",
       "\n",
       "[:, :, 12] =\n",
       " 11.9205  12.4448\n",
       " 11.4736  11.6334"
      ]
     },
     "execution_count": 10,
     "metadata": {},
     "output_type": "execute_result"
    }
   ],
   "source": [
    "o1 = f(i)\n",
    "@show o1"
   ]
  },
  {
   "cell_type": "code",
   "execution_count": null,
   "metadata": {},
   "outputs": [],
   "source": []
  }
 ],
 "metadata": {
  "kernelspec": {
   "display_name": "Julia 1.1.0",
   "language": "julia",
   "name": "julia-1.1"
  },
  "language_info": {
   "file_extension": ".jl",
   "mimetype": "application/julia",
   "name": "julia",
   "version": "1.1.0"
  }
 },
 "nbformat": 4,
 "nbformat_minor": 2
}
