{
 "cells": [
  {
   "cell_type": "code",
   "execution_count": null,
   "metadata": {
    "scrolled": true
   },
   "outputs": [],
   "source": [
    "using CuArrays\n",
    "using AutoGrad\n",
    "using Deeplearning\n",
    "using Statistics\n",
    "using StatsBase\n",
    "using Plots\n",
    "import CSV"
   ]
  },
  {
   "cell_type": "code",
   "execution_count": null,
   "metadata": {},
   "outputs": [],
   "source": [
    "batch = 100\n",
    "learning_rate = 10e-4\n",
    "sample_int = div(42000, batch)-1"
   ]
  },
  {
   "cell_type": "code",
   "execution_count": null,
   "metadata": {
    "scrolled": true
   },
   "outputs": [],
   "source": [
    "train = CSV.read(\"datasets/digit-recognizer/train.csv\")\n",
    "xtrain = []\n",
    "ytrain = []\n",
    "\n",
    "for i in 1:size(train)[1]\n",
    "    max = maximum(train[i,2:end])+0.1\n",
    "    normalized = convert(Array{Float32}, reshape(train[i, 2:end]./(max), (28,28,1,1)))\n",
    "    push!(xtrain, normalized)\n",
    "    push!(ytrain, train[i,1]+1)\n",
    "end\n",
    "\n",
    "println(\"Ready...\")"
   ]
  },
  {
   "cell_type": "code",
   "execution_count": null,
   "metadata": {},
   "outputs": [],
   "source": [
    "test = CSV.read(\"datasets/digit-recognizer/test.csv\")\n",
    "xtest = []\n",
    "ytest = [nothing for i in 1:size(test)[1]]\n",
    "for i in 1:size(test)[1]\n",
    "    max = maximum(test[i,2:end])+0.1\n",
    "    normalized = convert(Array{Float32}, reshape(test[i, 1:end]./(max), (28,28,1,1)))\n",
    "    push!(xtest, normalized)\n",
    "end\n",
    "\n",
    "println(\"Ready...\")"
   ]
  },
  {
   "cell_type": "code",
   "execution_count": null,
   "metadata": {},
   "outputs": [],
   "source": [
    "mnist_train = Deeplearning.minibatch(xtrain, ytrain, batch, shuffle=true)"
   ]
  },
  {
   "cell_type": "code",
   "execution_count": null,
   "metadata": {},
   "outputs": [],
   "source": [
    "mnist_test = Deeplearning.minibatch(xtest, ytest, batch, shuffle=true)"
   ]
  },
  {
   "cell_type": "code",
   "execution_count": null,
   "metadata": {},
   "outputs": [],
   "source": [
    "function newrelu(x)\n",
    "    return (x + abs(x))/2\n",
    "end"
   ]
  },
  {
   "cell_type": "code",
   "execution_count": null,
   "metadata": {},
   "outputs": [],
   "source": [
    "xavierfloat32 = Deeplearning.@float32 xavier"
   ]
  },
  {
   "cell_type": "code",
   "execution_count": null,
   "metadata": {
    "scrolled": true
   },
   "outputs": [],
   "source": [
    "conv1 = Deeplearning.ConvolutionLayer((3,3,6), (2,2), (1,1), xavierfloat32, newrelu)((28,28,1,1))\n",
    "conv2 = Deeplearning.ConvolutionLayer((3,3,16), (2,2), (1,1), xavierfloat32, newrelu)(conv1.telemetry.o)\n",
    "dense1 = Deeplearning.FullyConnectedLayer(120, xavierfloat32, newrelu)(conv2.telemetry.o)\n",
    "dense2 = Deeplearning.FullyConnectedLayer(84, xavierfloat32, newrelu)(dense1.telemetry.o)\n",
    "dense3 = Deeplearning.FullyConnectedLayer(10, xavierfloat32, newrelu)(dense2.telemetry.o)\n",
    "layers=[dense3,dense2,dense1,conv2,conv1]\n",
    "println(\"Loaded\")"
   ]
  },
  {
   "cell_type": "code",
   "execution_count": null,
   "metadata": {
    "scrolled": true
   },
   "outputs": [],
   "source": [
    "function f(x)\n",
    "    x = conv1(x,s=(2,2))\n",
    "    x = conv2(x,s=(2,2))    \n",
    "    x = dense1(x)\n",
    "    x = dense2(x)\n",
    "    x = dense3(x)\n",
    "    x = softmax(x)\n",
    "end"
   ]
  },
  {
   "cell_type": "code",
   "execution_count": null,
   "metadata": {},
   "outputs": [],
   "source": [
    "lenet5v2 = Deeplearning.Network(layers, f, loss=nll)"
   ]
  },
  {
   "cell_type": "code",
   "execution_count": null,
   "metadata": {},
   "outputs": [],
   "source": [
    "di = collect(Iterators.take(mnist_train,1))"
   ]
  },
  {
   "cell_type": "code",
   "execution_count": null,
   "metadata": {},
   "outputs": [],
   "source": [
    "batch_x, batch_y = di[1]"
   ]
  },
  {
   "cell_type": "code",
   "execution_count": null,
   "metadata": {},
   "outputs": [],
   "source": [
    "cat_batch_x = cat(batch_x...,dims=4)"
   ]
  },
  {
   "cell_type": "code",
   "execution_count": null,
   "metadata": {},
   "outputs": [],
   "source": [
    "using BenchmarkTools"
   ]
  },
  {
   "cell_type": "code",
   "execution_count": null,
   "metadata": {},
   "outputs": [],
   "source": [
    "cubatchx = cu(cat_batch_x)"
   ]
  },
  {
   "cell_type": "code",
   "execution_count": null,
   "metadata": {},
   "outputs": [],
   "source": [
    "@btime f(cubatchx)"
   ]
  },
  {
   "cell_type": "code",
   "execution_count": null,
   "metadata": {
    "scrolled": true
   },
   "outputs": [],
   "source": [
    "acc_train_plot = []\n",
    "acc_test_plot = []\n",
    "loss_train_plot = []\n",
    "loss_test_plot = []"
   ]
  },
  {
   "cell_type": "code",
   "execution_count": null,
   "metadata": {},
   "outputs": [],
   "source": [
    "for (iteration, data) in enumerate(Deeplearning.progress(repeat(mnist_train, 1)))\n",
    "    batch_x, batch_y = data\n",
    "\n",
    "    dv = @diff lenet5v2(batch_x, batch_y)\n",
    "\n",
    "    dparams = @parameters dv\n",
    "\n",
    "    for pidx in 1:length(dparams[1:end-1])\n",
    "        dw = grad(dv, dparams[pidx])\n",
    "        dw .-=learning_rate*dw\n",
    "    end\n",
    "    \n",
    "    if(iteration%sample_int==1)\n",
    "#         loss_train, loss_test = lenet5v2(mnist_train), lenet5v2(mnist_test)\n",
    "#         acc_train, acc_test = acc(lenet5v2, mnist_train), acc(lenet5v2, mnist_test)\n",
    "        loss_train = lenet5v2(mnist_train)\n",
    "        push!(loss_train_plot, loss_train)\n",
    "        \n",
    "        acc_train = acc(lenet5v2, mnist_train)\n",
    "        push!(acc_train_plot, acc_train)\n",
    "    end\n",
    "    \n",
    "end"
   ]
  },
  {
   "cell_type": "code",
   "execution_count": null,
   "metadata": {
    "scrolled": false
   },
   "outputs": [],
   "source": [
    "plot([acc_train_plot, acc_test_plot], linewidth=2, title=\"Accuracy\")"
   ]
  },
  {
   "cell_type": "code",
   "execution_count": null,
   "metadata": {},
   "outputs": [],
   "source": [
    "plot([loss_train_plot, loss_test_plot], linewidth=2, title=\"Loss\")"
   ]
  },
  {
   "cell_type": "code",
   "execution_count": null,
   "metadata": {},
   "outputs": [],
   "source": []
  }
 ],
 "metadata": {
  "@webio": {
   "lastCommId": null,
   "lastKernelId": null
  },
  "kernelspec": {
   "display_name": "Julia 1.1.1",
   "language": "julia",
   "name": "julia-1.1"
  },
  "language_info": {
   "file_extension": ".jl",
   "mimetype": "application/julia",
   "name": "julia",
   "version": "1.1.1"
  }
 },
 "nbformat": 4,
 "nbformat_minor": 2
}
