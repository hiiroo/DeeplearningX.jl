{
 "cells": [
  {
   "cell_type": "code",
   "execution_count": 1,
   "metadata": {
    "scrolled": true
   },
   "outputs": [
    {
     "name": "stderr",
     "output_type": "stream",
     "text": [
      "┌ Info: Recompiling stale cache file /Users/aliceylan/.julia/compiled/v1.1/Deeplearning/gtjFf.ji for Deeplearning [0d5bc7a0-39dd-11e9-2aab-59c8d4b467de]\n",
      "└ @ Base loading.jl:1184\n",
      "┌ Warning: Package Deeplearning does not have LinearAlgebra in its dependencies:\n",
      "│ - If you have Deeplearning checked out for development and have\n",
      "│   added LinearAlgebra as a dependency but haven't updated your primary\n",
      "│   environment's manifest file, try `Pkg.resolve()`.\n",
      "│ - Otherwise you may need to report an issue with Deeplearning\n",
      "└ Loading LinearAlgebra into Deeplearning from project dependency, future warnings for Deeplearning are suppressed.\n",
      "WARNING: Method definition (::getfield(Deeplearning, Symbol(\"#pfunc#110\")){w, s, d})(Any) in module Deeplearning at /Users/aliceylan/git/Deeplearning.jl/src/interface.jl:110 overwritten at /Users/aliceylan/git/Deeplearning.jl/src/interface.jl:112.\n"
     ]
    }
   ],
   "source": [
    "# using CuArrays\n",
    "using AutoGrad\n",
    "using Deeplearning\n",
    "using Statistics\n",
    "using StatsBase\n",
    "using Plots\n",
    "import CSV"
   ]
  },
  {
   "cell_type": "code",
   "execution_count": 2,
   "metadata": {},
   "outputs": [
    {
     "data": {
      "text/plain": [
       "0.001"
      ]
     },
     "execution_count": 2,
     "metadata": {},
     "output_type": "execute_result"
    }
   ],
   "source": [
    "batch = 100\n",
    "learning_rate = 10e-4"
   ]
  },
  {
   "cell_type": "raw",
   "metadata": {},
   "source": [
    "# test = CSV.read(\"datasets/digit-recognizer/test.csv\")"
   ]
  },
  {
   "cell_type": "code",
   "execution_count": 3,
   "metadata": {
    "scrolled": true
   },
   "outputs": [
    {
     "name": "stdout",
     "output_type": "stream",
     "text": [
      "Ready...\n"
     ]
    }
   ],
   "source": [
    "train = CSV.read(\"datasets/digit-recognizer/train.csv\")\n",
    "xtrain = []\n",
    "ytrain = []\n",
    "\n",
    "for i in 1:size(train)[1]\n",
    "    max = maximum(train[i,2:end])+0.1\n",
    "    normalized = reshape(train[i, 2:end]./(max), (28,28,1,1))\n",
    "    push!(xtrain, normalized)\n",
    "    push!(ytrain, train[i,1]+1)\n",
    "end\n",
    "\n",
    "println(\"Ready...\")"
   ]
  },
  {
   "cell_type": "code",
   "execution_count": 62,
   "metadata": {},
   "outputs": [
    {
     "name": "stdout",
     "output_type": "stream",
     "text": [
      "Ready...\n"
     ]
    }
   ],
   "source": [
    "test = CSV.read(\"datasets/digit-recognizer/test.csv\")\n",
    "xtest = []\n",
    "# ytest = []\n",
    "\n",
    "for i in 1:size(test)[1]\n",
    "    max = maximum(test[i,2:end])+0.1\n",
    "    normalized = reshape(test[i, 1:end]./(max), (28,28,1,1))\n",
    "    push!(xtest, normalized)\n",
    "#     push!(ytest, test[i,1]+1)\n",
    "end\n",
    "\n",
    "println(\"Ready...\")"
   ]
  },
  {
   "cell_type": "code",
   "execution_count": 4,
   "metadata": {},
   "outputs": [
    {
     "data": {
      "text/plain": [
       "Deeplearning.Data{Tuple{Array{Any,1},Array{Any,1}}}(Any[[0.0 0.0 … 0.0 0.0; 0.0 0.0 … 0.0 0.0; … ; 0.0 0.0 … 0.0 0.0; 0.0 0.0 … 0.0 0.0] [0.0 0.0 … 0.0 0.0; 0.0 0.0 … 0.0 0.0; … ; 0.0 0.0 … 0.0 0.0; 0.0 0.0 … 0.0 0.0] … [0.0 0.0 … 0.0 0.0; 0.0 0.0 … 0.0 0.0; … ; 0.0 0.0 … 0.0 0.0; 0.0 0.0 … 0.0 0.0] [0.0 0.0 … 0.0 0.0; 0.0 0.0 … 0.0 0.0; … ; 0.0 0.0 … 0.0 0.0; 0.0 0.0 … 0.0 0.0]], Any[2 1 … 7 10], 100, 42000, false, 41901, 1:42000, true, (42000,), (42000,), Array{Any,1}, Array{Any,1})"
      ]
     },
     "execution_count": 4,
     "metadata": {},
     "output_type": "execute_result"
    }
   ],
   "source": [
    "mnist_train = Deeplearning.minibatch(xtrain, ytrain, batch, shuffle=true)"
   ]
  },
  {
   "cell_type": "code",
   "execution_count": 63,
   "metadata": {},
   "outputs": [
    {
     "ename": "DimensionMismatch",
     "evalue": "DimensionMismatch(\"\")",
     "output_type": "error",
     "traceback": [
      "DimensionMismatch(\"\")",
      "",
      "Stacktrace:",
      " [1] #minibatch#2(::Bool, ::Bool, ::Type, ::Type, ::Tuple{Int64}, ::Tuple{Int64}, ::Function, ::Array{Any,1}, ::Array{Any,1}, ::Int64) at /Users/aliceylan/git/Deeplearning.jl/src/data.jl:58",
      " [2] (::getfield(Deeplearning, Symbol(\"#kw##minibatch\")))(::NamedTuple{(:shuffle,),Tuple{Bool}}, ::typeof(Deeplearning.minibatch), ::Array{Any,1}, ::Array{Any,1}, ::Int64) at ./none:0",
      " [3] top-level scope at In[63]:1"
     ]
    }
   ],
   "source": [
    "mnist_test = Deeplearning.minibatch(xtest, ytest, batch, shuffle=true)"
   ]
  },
  {
   "cell_type": "code",
   "execution_count": 5,
   "metadata": {
    "scrolled": true
   },
   "outputs": [
    {
     "name": "stdout",
     "output_type": "stream",
     "text": [
      "Loaded\n"
     ]
    }
   ],
   "source": [
    "conv1 = Deeplearning.ConvolutionLayer((3,3,6), (2,2), (1,1), xavier, relu)((28,28,1,1))\n",
    "conv2 = Deeplearning.ConvolutionLayer((3,3,16), (2,2), (1,1), xavier, relu)(conv1.telemetry.o)\n",
    "dense1 = Deeplearning.FullyConnectedLayer(120, xavier, relu)(conv2.telemetry.o)\n",
    "dense2 = Deeplearning.FullyConnectedLayer(84, xavier, relu)(dense1.telemetry.o)\n",
    "dense3 = Deeplearning.FullyConnectedLayer(10, xavier, relu)(dense2.telemetry.o)\n",
    "layers=[dense3,dense2,dense1,conv2,conv1]\n",
    "println(\"Loaded\")"
   ]
  },
  {
   "cell_type": "code",
   "execution_count": 44,
   "metadata": {
    "scrolled": true
   },
   "outputs": [
    {
     "data": {
      "text/plain": [
       "f (generic function with 1 method)"
      ]
     },
     "execution_count": 44,
     "metadata": {},
     "output_type": "execute_result"
    }
   ],
   "source": [
    "function f(x)\n",
    "    x = cat(x...,dims=4)\n",
    "    x = conv1(x,s=(2,2))    \n",
    "    x = conv2(x,s=(2,2))    \n",
    "    x = dense1(x)\n",
    "    x = dense2(x)\n",
    "    x = dense3(x)\n",
    "    x = newsoftmax(x)\n",
    "end"
   ]
  },
  {
   "cell_type": "code",
   "execution_count": 45,
   "metadata": {},
   "outputs": [
    {
     "data": {
      "text/plain": [
       "Deeplearning.Network(Any[FullyConnectedLayer(LayerTelemetry((10, 84), (10, 1, 1), (10, 1, 1)), P(Array{Float64,2}(10,84)), P(Array{Float64,2}(10,1)), relu), FullyConnectedLayer(LayerTelemetry((84, 120), (84, 1, 1), (84, 1, 1)), P(Array{Float64,2}(84,120)), P(Array{Float64,2}(84,1)), relu), FullyConnectedLayer(LayerTelemetry((120, 576), (120, 1, 1), (120, 1, 1)), P(Array{Float64,2}(120,576)), P(Array{Float64,2}(120,1)), relu), ConvolutionLayer(LayerTelemetry((3, 3, 6, 16), (1, 1, 16, 1), (6, 6, 16, 1)), P(Array{Float64,4}(3,3,6,16)), P(Array{Float64,4}(1,1,16,1)), relu), ConvolutionLayer(LayerTelemetry((3, 3, 1, 6), (1, 1, 6, 1), (13, 13, 6, 1)), P(Array{Float64,4}(3,3,1,6)), P(Array{Float64,4}(1,1,6,1)), relu)], f, Deeplearning.nll)"
      ]
     },
     "execution_count": 45,
     "metadata": {},
     "output_type": "execute_result"
    }
   ],
   "source": [
    "lenet5v2 = Deeplearning.Network(layers, f, loss=nll)"
   ]
  },
  {
   "cell_type": "markdown",
   "metadata": {},
   "source": [
    "indices = sample(1:size(train)[1], size(train)[1], replace = false)\n",
    "println(\"Ready...\")\n",
    "\n",
    "sample_batch_x, sample_batch_y = cat(xtrain[indices[(1):(100)]]..., dims=4), ytrain[indices[(1):(100)]]\n",
    "println(\"Ready...\")\n",
    "\n",
    "using BenchmarkTools\n",
    "\n",
    "dv = dff(sample_batch_x, sample_batch_y)\n",
    "\n",
    "dvp = @parameters dv"
   ]
  },
  {
   "cell_type": "code",
   "execution_count": null,
   "metadata": {
    "scrolled": true
   },
   "outputs": [],
   "source": [
    "acc_train_plot = []\n",
    "acc_test_plot = []\n",
    "loss_train_plot = []\n",
    "loss_test_plot = []"
   ]
  },
  {
   "cell_type": "code",
   "execution_count": 8,
   "metadata": {},
   "outputs": [
    {
     "data": {
      "text/plain": [
       "Deeplearning.Progress{Deeplearning.Repeat}(Deeplearning.Repeat(Deeplearning.Data{Tuple{Array{Any,1},Array{Any,1}}}(Any[[0.0 0.0 … 0.0 0.0; 0.0 0.0 … 0.0 0.0; … ; 0.0 0.0 … 0.0 0.0; 0.0 0.0 … 0.0 0.0] [0.0 0.0 … 0.0 0.0; 0.0 0.0 … 0.0 0.0; … ; 0.0 0.0 … 0.0 0.0; 0.0 0.0 … 0.0 0.0] … [0.0 0.0 … 0.0 0.0; 0.0 0.0 … 0.0 0.0; … ; 0.0 0.0 … 0.0 0.0; 0.0 0.0 … 0.0 0.0] [0.0 0.0 … 0.0 0.0; 0.0 0.0 … 0.0 0.0; … ; 0.0 0.0 … 0.0 0.0; 0.0 0.0 … 0.0 0.0]], Any[2 1 … 7 10], 100, 42000, false, 41901, 1:42000, true, (42000,), (42000,), Array{Any,1}, Array{Any,1}), 1), 0, 0, 0x00000034fb6bc470, 0x0000000000000000, 0x000000003b9aca00, 80, 1.0, Inf)"
      ]
     },
     "execution_count": 8,
     "metadata": {},
     "output_type": "execute_result"
    }
   ],
   "source": [
    "datastream = Deeplearning.progress(repeat(mnist_train, 1))"
   ]
  },
  {
   "cell_type": "code",
   "execution_count": 10,
   "metadata": {},
   "outputs": [
    {
     "data": {
      "text/plain": [
       "1-element Array{Tuple{Array{Any,1},Array{Any,1}},1}:\n",
       " ([[0.0 0.0 … 0.0 0.0; 0.0 0.0 … 0.0 0.0; … ; 0.0 0.0 … 0.0 0.0; 0.0 0.0 … 0.0 0.0], [0.0 0.0 … 0.0 0.0; 0.0 0.0 … 0.0 0.0; … ; 0.0 0.0 … 0.0 0.0; 0.0 0.0 … 0.0 0.0], [0.0 0.0 … 0.0 0.0; 0.0 0.0 … 0.0 0.0; … ; 0.0 0.0 … 0.0 0.0; 0.0 0.0 … 0.0 0.0], [0.0 0.0 … 0.0 0.0; 0.0 0.0 … 0.0 0.0; … ; 0.0 0.0 … 0.0 0.0; 0.0 0.0 … 0.0 0.0], [0.0 0.0 … 0.0 0.0; 0.0 0.0 … 0.0 0.0; … ; 0.0 0.0 … 0.0 0.0; 0.0 0.0 … 0.0 0.0], [0.0 0.0 … 0.0 0.0; 0.0 0.0 … 0.0 0.0; … ; 0.0 0.0 … 0.0 0.0; 0.0 0.0 … 0.0 0.0], [0.0 0.0 … 0.0 0.0; 0.0 0.0 … 0.0 0.0; … ; 0.0 0.0 … 0.0 0.0; 0.0 0.0 … 0.0 0.0], [0.0 0.0 … 0.0 0.0; 0.0 0.0 … 0.0 0.0; … ; 0.0 0.0 … 0.0 0.0; 0.0 0.0 … 0.0 0.0], [0.0 0.0 … 0.0 0.0; 0.0 0.0 … 0.0 0.0; … ; 0.0 0.0 … 0.0 0.0; 0.0 0.0 … 0.0 0.0], [0.0 0.0 … 0.0 0.0; 0.0 0.0 … 0.0 0.0; … ; 0.0 0.0 … 0.0 0.0; 0.0 0.0 … 0.0 0.0]  …  [0.0 0.0 … 0.0 0.0; 0.0 0.0 … 0.0 0.0; … ; 0.0 0.0 … 0.0 0.0; 0.0 0.0 … 0.0 0.0], [0.0 0.0 … 0.0 0.0; 0.0 0.0 … 0.0 0.0; … ; 0.0 0.0 … 0.0 0.0; 0.0 0.0 … 0.0 0.0], [0.0 0.0 … 0.0 0.0; 0.0 0.0 … 0.0 0.0; … ; 0.0 0.0 … 0.0 0.0; 0.0 0.0 … 0.0 0.0], [0.0 0.0 … 0.0 0.0; 0.0 0.0 … 0.0 0.0; … ; 0.0 0.0 … 0.0 0.0; 0.0 0.0 … 0.0 0.0], [0.0 0.0 … 0.0 0.0; 0.0 0.0 … 0.0 0.0; … ; 0.0 0.0 … 0.0 0.0; 0.0 0.0 … 0.0 0.0], [0.0 0.0 … 0.0 0.0; 0.0 0.0 … 0.0 0.0; … ; 0.0 0.0 … 0.0 0.0; 0.0 0.0 … 0.0 0.0], [0.0 0.0 … 0.0 0.0; 0.0 0.0 … 0.0 0.0; … ; 0.0 0.0 … 0.0 0.0; 0.0 0.0 … 0.0 0.0], [0.0 0.0 … 0.0 0.0; 0.0 0.0 … 0.0 0.0; … ; 0.0 0.0 … 0.0 0.0; 0.0 0.0 … 0.0 0.0], [0.0 0.0 … 0.0 0.0; 0.0 0.0 … 0.0 0.0; … ; 0.0 0.0 … 0.0 0.0; 0.0 0.0 … 0.0 0.0], [0.0 0.0 … 0.0 0.0; 0.0 0.0 … 0.0 0.0; … ; 0.0 0.0 … 0.0 0.0; 0.0 0.0 … 0.0 0.0]], [4, 4, 5, 6, 1, 3, 2, 6, 3, 4  …  5, 7, 4, 6, 2, 2, 1, 10, 8, 5])"
      ]
     },
     "execution_count": 10,
     "metadata": {},
     "output_type": "execute_result"
    }
   ],
   "source": [
    "di = collect(Iterators.take(mnist_train, 1))"
   ]
  },
  {
   "cell_type": "code",
   "execution_count": 11,
   "metadata": {},
   "outputs": [
    {
     "data": {
      "text/plain": [
       "(Any[[0.0 0.0 … 0.0 0.0; 0.0 0.0 … 0.0 0.0; … ; 0.0 0.0 … 0.0 0.0; 0.0 0.0 … 0.0 0.0], [0.0 0.0 … 0.0 0.0; 0.0 0.0 … 0.0 0.0; … ; 0.0 0.0 … 0.0 0.0; 0.0 0.0 … 0.0 0.0], [0.0 0.0 … 0.0 0.0; 0.0 0.0 … 0.0 0.0; … ; 0.0 0.0 … 0.0 0.0; 0.0 0.0 … 0.0 0.0], [0.0 0.0 … 0.0 0.0; 0.0 0.0 … 0.0 0.0; … ; 0.0 0.0 … 0.0 0.0; 0.0 0.0 … 0.0 0.0], [0.0 0.0 … 0.0 0.0; 0.0 0.0 … 0.0 0.0; … ; 0.0 0.0 … 0.0 0.0; 0.0 0.0 … 0.0 0.0], [0.0 0.0 … 0.0 0.0; 0.0 0.0 … 0.0 0.0; … ; 0.0 0.0 … 0.0 0.0; 0.0 0.0 … 0.0 0.0], [0.0 0.0 … 0.0 0.0; 0.0 0.0 … 0.0 0.0; … ; 0.0 0.0 … 0.0 0.0; 0.0 0.0 … 0.0 0.0], [0.0 0.0 … 0.0 0.0; 0.0 0.0 … 0.0 0.0; … ; 0.0 0.0 … 0.0 0.0; 0.0 0.0 … 0.0 0.0], [0.0 0.0 … 0.0 0.0; 0.0 0.0 … 0.0 0.0; … ; 0.0 0.0 … 0.0 0.0; 0.0 0.0 … 0.0 0.0], [0.0 0.0 … 0.0 0.0; 0.0 0.0 … 0.0 0.0; … ; 0.0 0.0 … 0.0 0.0; 0.0 0.0 … 0.0 0.0]  …  [0.0 0.0 … 0.0 0.0; 0.0 0.0 … 0.0 0.0; … ; 0.0 0.0 … 0.0 0.0; 0.0 0.0 … 0.0 0.0], [0.0 0.0 … 0.0 0.0; 0.0 0.0 … 0.0 0.0; … ; 0.0 0.0 … 0.0 0.0; 0.0 0.0 … 0.0 0.0], [0.0 0.0 … 0.0 0.0; 0.0 0.0 … 0.0 0.0; … ; 0.0 0.0 … 0.0 0.0; 0.0 0.0 … 0.0 0.0], [0.0 0.0 … 0.0 0.0; 0.0 0.0 … 0.0 0.0; … ; 0.0 0.0 … 0.0 0.0; 0.0 0.0 … 0.0 0.0], [0.0 0.0 … 0.0 0.0; 0.0 0.0 … 0.0 0.0; … ; 0.0 0.0 … 0.0 0.0; 0.0 0.0 … 0.0 0.0], [0.0 0.0 … 0.0 0.0; 0.0 0.0 … 0.0 0.0; … ; 0.0 0.0 … 0.0 0.0; 0.0 0.0 … 0.0 0.0], [0.0 0.0 … 0.0 0.0; 0.0 0.0 … 0.0 0.0; … ; 0.0 0.0 … 0.0 0.0; 0.0 0.0 … 0.0 0.0], [0.0 0.0 … 0.0 0.0; 0.0 0.0 … 0.0 0.0; … ; 0.0 0.0 … 0.0 0.0; 0.0 0.0 … 0.0 0.0], [0.0 0.0 … 0.0 0.0; 0.0 0.0 … 0.0 0.0; … ; 0.0 0.0 … 0.0 0.0; 0.0 0.0 … 0.0 0.0], [0.0 0.0 … 0.0 0.0; 0.0 0.0 … 0.0 0.0; … ; 0.0 0.0 … 0.0 0.0; 0.0 0.0 … 0.0 0.0]], Any[4, 4, 5, 6, 1, 3, 2, 6, 3, 4  …  5, 7, 4, 6, 2, 2, 1, 10, 8, 5])"
      ]
     },
     "execution_count": 11,
     "metadata": {},
     "output_type": "execute_result"
    }
   ],
   "source": [
    "batch_x, batch_y = di[1]"
   ]
  },
  {
   "cell_type": "code",
   "execution_count": 14,
   "metadata": {},
   "outputs": [
    {
     "data": {
      "text/plain": [
       "newsoftmax (generic function with 1 method)"
      ]
     },
     "execution_count": 14,
     "metadata": {},
     "output_type": "execute_result"
    }
   ],
   "source": [
    "newsoftmax(x) = cat([(exp10.((x[:,bi])))./(sum(exp10.((x[:,bi])))) for bi in 1:size(x)[end]]...,dims= 2)"
   ]
  },
  {
   "cell_type": "code",
   "execution_count": 48,
   "metadata": {},
   "outputs": [
    {
     "name": "stdout",
     "output_type": "stream",
     "text": [
      "  28.446 ms (40109 allocations: 38.69 MiB)\n"
     ]
    },
    {
     "data": {
      "text/plain": [
       "10×100 Array{Float64,2}:\n",
       " 0.0838721  0.0838721  0.0838725  …  0.0838722  0.0838721  0.0838722\n",
       " 0.0838721  0.0838721  0.0838725     0.0838722  0.0838721  0.0838722\n",
       " 0.164667   0.164667   0.164665      0.164667   0.164667   0.164667 \n",
       " 0.106995   0.106995   0.106994      0.106995   0.106996   0.106995 \n",
       " 0.112322   0.112323   0.112325      0.112323   0.112323   0.112323 \n",
       " 0.112171   0.112171   0.11217    …  0.112171   0.11217    0.11217  \n",
       " 0.0844836  0.0844836  0.0844825     0.0844838  0.0844836  0.0844836\n",
       " 0.0838721  0.0838721  0.0838725     0.0838722  0.0838721  0.0838722\n",
       " 0.0838721  0.0838721  0.0838725     0.0838722  0.0838721  0.0838722\n",
       " 0.0838721  0.0838721  0.0838725     0.0838722  0.0838721  0.0838722"
      ]
     },
     "execution_count": 48,
     "metadata": {},
     "output_type": "execute_result"
    }
   ],
   "source": [
    "@btime lenet5v2(batch_x)"
   ]
  },
  {
   "cell_type": "code",
   "execution_count": 58,
   "metadata": {},
   "outputs": [
    {
     "data": {
      "text/plain": [
       "acc (generic function with 1 method)"
      ]
     },
     "execution_count": 58,
     "metadata": {},
     "output_type": "execute_result"
    }
   ],
   "source": [
    "function acc(m::Deeplearning.Network, d::Deeplearning.Data;o...)\n",
    "    total_cnt = 0\n",
    "    total_smp = 0\n",
    "    for (x_d, y_d) in d\n",
    "        total_cnt+=Deeplearning.acc(m(x_d), y_d, average=false)\n",
    "        total_smp+=length(y_d)\n",
    "    end\n",
    "\n",
    "    return total_cnt/total_smp\n",
    "end"
   ]
  },
  {
   "cell_type": "code",
   "execution_count": 60,
   "metadata": {},
   "outputs": [
    {
     "name": "stdout",
     "output_type": "stream",
     "text": [
      "  18.887 s (16862947 allocations: 15.87 GiB)\n"
     ]
    },
    {
     "data": {
      "text/plain": [
       "0.12857142857142856"
      ]
     },
     "execution_count": 60,
     "metadata": {},
     "output_type": "execute_result"
    }
   ],
   "source": [
    "@btime acc(lenet5v2, mnist_train)"
   ]
  },
  {
   "cell_type": "code",
   "execution_count": 25,
   "metadata": {},
   "outputs": [],
   "source": [
    "using BenchmarkTools"
   ]
  },
  {
   "cell_type": "code",
   "execution_count": 26,
   "metadata": {},
   "outputs": [
    {
     "name": "stdout",
     "output_type": "stream",
     "text": [
      "  103.861 ms (140743 allocations: 99.99 MiB)\n"
     ]
    },
    {
     "data": {
      "text/plain": [
       "T(0.09852739331525731)"
      ]
     },
     "execution_count": 26,
     "metadata": {},
     "output_type": "execute_result"
    }
   ],
   "source": [
    "@btime dv = @diff lenet5v2(cat(batch_x...,dims=4), batch_y)"
   ]
  },
  {
   "cell_type": "code",
   "execution_count": 22,
   "metadata": {},
   "outputs": [
    {
     "data": {
      "text/plain": [
       "10-element Array{Param,1}:\n",
       " P(Array{Float64,2}(10,1))    \n",
       " P(Array{Float64,2}(10,84))   \n",
       " P(Array{Float64,2}(84,1))    \n",
       " P(Array{Float64,2}(84,120))  \n",
       " P(Array{Float64,2}(120,1))   \n",
       " P(Array{Float64,2}(120,576)) \n",
       " P(Array{Float64,4}(1,1,16,1))\n",
       " P(Array{Float64,4}(3,3,6,16))\n",
       " P(Array{Float64,4}(1,1,6,1)) \n",
       " P(Array{Float64,4}(3,3,1,6)) "
      ]
     },
     "execution_count": 22,
     "metadata": {},
     "output_type": "execute_result"
    }
   ],
   "source": [
    "dparams = @parameters dv"
   ]
  },
  {
   "cell_type": "code",
   "execution_count": 23,
   "metadata": {},
   "outputs": [
    {
     "data": {
      "text/plain": [
       "10×1 Array{Float64,2}:\n",
       "  0.0                  \n",
       "  0.0                  \n",
       " -0.014414221874662863 \n",
       " -0.0026195316414336835\n",
       "  0.005045085061008495 \n",
       "  0.013196174025486744 \n",
       " -0.0039157665836509845\n",
       "  0.0                  \n",
       "  0.0                  \n",
       "  0.0                  "
      ]
     },
     "execution_count": 23,
     "metadata": {},
     "output_type": "execute_result"
    }
   ],
   "source": [
    "dw = grad(dv, dparams[1])"
   ]
  },
  {
   "cell_type": "code",
   "execution_count": null,
   "metadata": {},
   "outputs": [],
   "source": [
    "for (iteration, data) in enumerate(datastream)\n",
    "    batch_x, batch_y = data\n",
    "\n",
    "    dv = @diff lenet5v2(batch_x, batch_y)\n",
    "\n",
    "    dparams = @parameters dv\n",
    "\n",
    "    for pidx in 1:length(dparams[1:end-1])\n",
    "        dw = grad(dv, dparams[pidx])\n",
    "        dw .-=learning_rate*dw\n",
    "    end\n",
    "    \n",
    "    if(iteration%sample_int==1)\n",
    "        loss_train, loss_test = lenet5v2(mnist_train), lenet5v2(mnist_test)\n",
    "        acc_train, acc_test = acc(lenet5v2, mnist_train), acc(lenet5v2, mnist_test)\n",
    "    end\n",
    "    \n",
    "end"
   ]
  },
  {
   "cell_type": "raw",
   "metadata": {},
   "source": [
    "for e in 1:1\n",
    "    println(\"Epoch \", e)\n",
    "    indices = sample(1:size(train)[1], size(train)[1], replace = false)\n",
    "    for (ei,si) in enumerate(1:batch:size(indices)[1])\n",
    "        sample_batch_x, sample_batch_y = cat(xtrain[indices[(si):(ei*batch)]]..., dims=4), ytrain[indices[(si):(ei*batch)]]\n",
    "\n",
    "        dv = dff(sample_batch_x, sample_batch_y)\n",
    "\n",
    "        dparams = @parameters dv\n",
    "\n",
    "        for pidx in 1:length(dparams[1:end-1])\n",
    "            dw = grad(dv, dparams[pidx])\n",
    "            dw .-=learning_rate*dw\n",
    "        end\n",
    "    end\n",
    "    otrain = f(xtrain)\n",
    "#     otest = f(xtest)\n",
    "    push!(acc_train_plot, acc(otrain, ytrain))\n",
    "    push!(loss_train_plot, nll(otrain, ytrain))\n",
    "#     push!(acc_test_plot, acc(o, ytest))\n",
    "#     push!(loss_test_plot, nll(o, ytest))\n",
    "end"
   ]
  },
  {
   "cell_type": "code",
   "execution_count": null,
   "metadata": {
    "scrolled": false
   },
   "outputs": [],
   "source": [
    "plot([acc_plot], linewidth=2, title=\"Accuracy\")"
   ]
  },
  {
   "cell_type": "code",
   "execution_count": null,
   "metadata": {},
   "outputs": [],
   "source": [
    "plot([loss_plot], linewidth=2, title=\"Loss\")"
   ]
  },
  {
   "cell_type": "code",
   "execution_count": null,
   "metadata": {},
   "outputs": [],
   "source": []
  }
 ],
 "metadata": {
  "@webio": {
   "lastCommId": null,
   "lastKernelId": null
  },
  "kernelspec": {
   "display_name": "Julia 1.1.1",
   "language": "julia",
   "name": "julia-1.1"
  },
  "language_info": {
   "file_extension": ".jl",
   "mimetype": "application/julia",
   "name": "julia",
   "version": "1.1.1"
  }
 },
 "nbformat": 4,
 "nbformat_minor": 2
}
