{
 "cells": [
  {
   "cell_type": "code",
   "execution_count": null,
   "metadata": {
    "scrolled": true
   },
   "outputs": [],
   "source": [
    "# using CuArrays\n",
    "using AutoGrad\n",
    "using Deeplearning\n",
    "using Statistics\n",
    "using StatsBase\n",
    "using Plots\n",
    "import CSV"
   ]
  },
  {
   "cell_type": "code",
   "execution_count": null,
   "metadata": {},
   "outputs": [],
   "source": [
    "batch = 100\n",
    "learning_rate = 10e-4"
   ]
  },
  {
   "cell_type": "raw",
   "metadata": {},
   "source": [
    "# test = CSV.read(\"datasets/digit-recognizer/test.csv\")"
   ]
  },
  {
   "cell_type": "code",
   "execution_count": null,
   "metadata": {
    "scrolled": true
   },
   "outputs": [],
   "source": [
    "train = CSV.read(\"datasets/digit-recognizer/train.csv\")\n",
    "xtrain = []\n",
    "ytrain = []\n",
    "\n",
    "for i in 1:size(train)[1]\n",
    "    max = maximum(train[i,2:end])+0.1\n",
    "    normalized = reshape(train[i, 2:end]./(max), (28,28,1,1))\n",
    "    push!(xtrain, normalized)\n",
    "    push!(ytrain, train[i,1]+1)\n",
    "end\n",
    "\n",
    "println(\"Ready...\")"
   ]
  },
  {
   "cell_type": "code",
   "execution_count": null,
   "metadata": {},
   "outputs": [],
   "source": [
    "mnist_train = Deeplearning.minibatch(xtrain, ytrain, batch, shuffle=true)"
   ]
  },
  {
   "cell_type": "code",
   "execution_count": null,
   "metadata": {
    "scrolled": true
   },
   "outputs": [],
   "source": [
    "conv1 = Deeplearning.ConvolutionLayer((3,3,6), (2,2), (1,1), xavier, relu)((28,28,1,1))\n",
    "conv2 = Deeplearning.ConvolutionLayer((3,3,16), (2,2), (1,1), xavier, relu)(conv1.telemetry.o)\n",
    "dense1 = Deeplearning.FullyConnectedLayer(120, xavier, relu)(conv2.telemetry.o)\n",
    "dense2 = Deeplearning.FullyConnectedLayer(84, xavier, relu)(dense1.telemetry.o)\n",
    "dense3 = Deeplearning.FullyConnectedLayer(10, xavier, relu)(dense2.telemetry.o)\n",
    "layers=[dense3,dense2,dense1,conv2,conv1]\n",
    "println(\"Loaded\")"
   ]
  },
  {
   "cell_type": "code",
   "execution_count": null,
   "metadata": {
    "scrolled": true
   },
   "outputs": [],
   "source": [
    "function f(x)\n",
    "    x = conv1(x,s=(2,2))    \n",
    "    x = conv2(x,s=(2,2))    \n",
    "    x = dense1(x)\n",
    "    x = dense2(x)\n",
    "    x = dense3(x)\n",
    "    x = softmax(x)\n",
    "end"
   ]
  },
  {
   "cell_type": "code",
   "execution_count": null,
   "metadata": {},
   "outputs": [],
   "source": [
    "lenet5v2 = Deeplearning.Network(layers, f, loss=nll)"
   ]
  },
  {
   "cell_type": "markdown",
   "metadata": {},
   "source": [
    "indices = sample(1:size(train)[1], size(train)[1], replace = false)\n",
    "println(\"Ready...\")\n",
    "\n",
    "sample_batch_x, sample_batch_y = cat(xtrain[indices[(1):(100)]]..., dims=4), ytrain[indices[(1):(100)]]\n",
    "println(\"Ready...\")\n",
    "\n",
    "using BenchmarkTools\n",
    "\n",
    "dv = dff(sample_batch_x, sample_batch_y)\n",
    "\n",
    "dvp = @parameters dv"
   ]
  },
  {
   "cell_type": "code",
   "execution_count": null,
   "metadata": {
    "scrolled": true
   },
   "outputs": [],
   "source": [
    "acc_train_plot = []\n",
    "acc_test_plot = []\n",
    "loss_train_plot = []\n",
    "loss_test_plot = []"
   ]
  },
  {
   "cell_type": "code",
   "execution_count": null,
   "metadata": {},
   "outputs": [],
   "source": [
    "datastream = Deeplearning.progress(repeat(mnist_train, 1))"
   ]
  },
  {
   "cell_type": "code",
   "execution_count": null,
   "metadata": {},
   "outputs": [],
   "source": [
    "di = collect(Iterators.take(mnist_train, 1))"
   ]
  },
  {
   "cell_type": "code",
   "execution_count": null,
   "metadata": {},
   "outputs": [],
   "source": [
    "batch_x, batch_y = di[1]"
   ]
  },
  {
   "cell_type": "code",
   "execution_count": null,
   "metadata": {},
   "outputs": [],
   "source": [
    "dv = @diff lenet5v2(cat(batch_x...,dims=4), batch_y)"
   ]
  },
  {
   "cell_type": "code",
   "execution_count": null,
   "metadata": {},
   "outputs": [],
   "source": [
    "dparams = @parameters dv"
   ]
  },
  {
   "cell_type": "code",
   "execution_count": null,
   "metadata": {},
   "outputs": [],
   "source": [
    "dw = grad(dv, dparams[1])"
   ]
  },
  {
   "cell_type": "code",
   "execution_count": null,
   "metadata": {},
   "outputs": [],
   "source": [
    "for (iteration, data) in enumerate(datastream)\n",
    "    batch_x, batch_y = data\n",
    "\n",
    "    dv = @diff lenet5v2(cat(batch_x...,dims=4), batch_y)#dff(sample_batch_x, sample_batch_y)\n",
    "\n",
    "    dparams = @parameters dv\n",
    "\n",
    "    for pidx in 1:length(dparams[1:end-1])\n",
    "        dw = grad(dv, dparams[pidx])\n",
    "        dw .-=learning_rate*dw\n",
    "    end\n",
    "    \n",
    "#     if(iteration%sample_int==1)\n",
    "        \n",
    "#     end\n",
    "    \n",
    "end"
   ]
  },
  {
   "cell_type": "code",
   "execution_count": null,
   "metadata": {
    "scrolled": true
   },
   "outputs": [],
   "source": [
    "for e in 1:1\n",
    "    println(\"Epoch \", e)\n",
    "    indices = sample(1:size(train)[1], size(train)[1], replace = false)\n",
    "    for (ei,si) in enumerate(1:batch:size(indices)[1])\n",
    "        sample_batch_x, sample_batch_y = cat(xtrain[indices[(si):(ei*batch)]]..., dims=4), ytrain[indices[(si):(ei*batch)]]\n",
    "\n",
    "        dv = dff(sample_batch_x, sample_batch_y)\n",
    "\n",
    "        dparams = @parameters dv\n",
    "\n",
    "        for pidx in 1:length(dparams[1:end-1])\n",
    "            dw = grad(dv, dparams[pidx])\n",
    "            dw .-=learning_rate*dw\n",
    "        end\n",
    "    end\n",
    "    otrain = f(xtrain)\n",
    "#     otest = f(xtest)\n",
    "    push!(acc_train_plot, acc(otrain, ytrain))\n",
    "    push!(loss_train_plot, nll(otrain, ytrain))\n",
    "#     push!(acc_test_plot, acc(o, ytest))\n",
    "#     push!(loss_test_plot, nll(o, ytest))\n",
    "end"
   ]
  },
  {
   "cell_type": "code",
   "execution_count": null,
   "metadata": {
    "scrolled": false
   },
   "outputs": [],
   "source": [
    "plot([acc_plot], linewidth=2, title=\"Accuracy\")"
   ]
  },
  {
   "cell_type": "code",
   "execution_count": null,
   "metadata": {},
   "outputs": [],
   "source": [
    "plot([loss_plot], linewidth=2, title=\"Loss\")"
   ]
  },
  {
   "cell_type": "code",
   "execution_count": null,
   "metadata": {},
   "outputs": [],
   "source": []
  }
 ],
 "metadata": {
  "@webio": {
   "lastCommId": null,
   "lastKernelId": null
  },
  "kernelspec": {
   "display_name": "Julia 1.1.1",
   "language": "julia",
   "name": "julia-1.1"
  },
  "language_info": {
   "file_extension": ".jl",
   "mimetype": "application/julia",
   "name": "julia",
   "version": "1.1.1"
  }
 },
 "nbformat": 4,
 "nbformat_minor": 2
}
