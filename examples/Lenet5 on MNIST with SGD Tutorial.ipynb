{
 "cells": [
  {
   "cell_type": "code",
   "execution_count": null,
   "metadata": {},
   "outputs": [],
   "source": [
    "using AutoGrad\n",
    "using Deeplearning\n",
    "using Statistics\n",
    "using StatsBase\n",
    "using Plots\n",
    "import CSV"
   ]
  },
  {
   "cell_type": "code",
   "execution_count": null,
   "metadata": {},
   "outputs": [],
   "source": [
    "batch = 100\n",
    "learning_rate = 10e-2"
   ]
  },
  {
   "cell_type": "code",
   "execution_count": null,
   "metadata": {
    "scrolled": true
   },
   "outputs": [],
   "source": [
    "# test = CSV.read(\"datasets/digit-recognizer/test.csv\")"
   ]
  },
  {
   "cell_type": "code",
   "execution_count": null,
   "metadata": {
    "scrolled": true
   },
   "outputs": [],
   "source": [
    "train = CSV.read(\"datasets/digit-recognizer/train.csv\")\n",
    "xtrain = []\n",
    "ytrain = []\n",
    "for i in 1:size(train)[1]\n",
    "    max = maximum(train[i,2:end])+0.1\n",
    "    normalized = reshape(train[i, 2:end]./(max), (28,28,1,1))\n",
    "    push!(xtrain, normalized)\n",
    "    push!(ytrain, train[i,1]+1)\n",
    "end\n",
    "println(\"Ready...\")"
   ]
  },
  {
   "cell_type": "code",
   "execution_count": null,
   "metadata": {
    "scrolled": true
   },
   "outputs": [],
   "source": [
    "input = @cudaarray rand(28, 28, 1, 10)\n",
    "w1 = ((rand(3,3,1,6).-0.5)./100)\n",
    "w2 = ((rand(3,3,6,16).-0.5)./100)\n",
    "println(\"Ready...\")"
   ]
  },
  {
   "cell_type": "code",
   "execution_count": null,
   "metadata": {
    "scrolled": true
   },
   "outputs": [],
   "source": [
    "conv1 = convolve(input, w1, (1,1), (1,1))\n",
    "x = conv1(input)\n",
    "pool1 = avgpooling(x, (2,2), (2,2), (1,1))\n",
    "x = pool1(x)\n",
    "conv2 = convolve(x, w2, (1,1), (1,1))\n",
    "x = conv2(x)\n",
    "pool2 = avgpooling(x, (2,2), (2,2), (1,1))\n",
    "x = pool2(x)\n",
    "dense1 = dense(x, 120)\n",
    "x = dense1(x)\n",
    "dense2 = dense(x, 84)\n",
    "x = dense2(x)\n",
    "dense3 = dense(x, 10)\n",
    "layers=[dense3,dense2,dense1,conv2,conv1]\n",
    "println(\"Loaded\")"
   ]
  },
  {
   "cell_type": "code",
   "execution_count": null,
   "metadata": {
    "scrolled": true
   },
   "outputs": [],
   "source": [
    "function f(x)\n",
    "    x = conv1(x)\n",
    "    x = relu(x)\n",
    "    x = pool1(x)\n",
    "    \n",
    "    x = conv2(x)\n",
    "    x = relu(x)\n",
    "    x = pool2(x)\n",
    "    \n",
    "    x = dense1(x)\n",
    "    x = relu(x)\n",
    "    x = dense2(x)\n",
    "    x = relu(x)\n",
    "    x = dense3(x)\n",
    "    x = softmax(x)\n",
    "end"
   ]
  },
  {
   "cell_type": "code",
   "execution_count": null,
   "metadata": {
    "scrolled": true
   },
   "outputs": [],
   "source": [
    "acc_train_plot = []\n",
    "acc_test_plot = []\n",
    "loss_train_plot = []\n",
    "loss_test_plot = []"
   ]
  },
  {
   "cell_type": "code",
   "execution_count": null,
   "metadata": {
    "scrolled": true
   },
   "outputs": [],
   "source": [
    "dff(x,y) = @diff nll(f(x), y)\n",
    "\n",
    "for e in 1:1\n",
    "    println(\"Epoch \", ei)\n",
    "    indices = sample(1:size(train)[1], size(train)[1], replace = false)\n",
    "    for (ei,si) in enumerate(1:batch:size(indices)[1])\n",
    "        sample_batch_x, sample_batch_y = cat(xtrain[indices[(ei):(ei-1)+batch]]..., dims=4), ytrain[indices[(ei):(ei-1)+batch]]\n",
    "\n",
    "        dv = dff(sample_batch_x, sample_batch_y)\n",
    "\n",
    "        dparams = @parameters dv\n",
    "\n",
    "        for pidx in 1:length(dparams[1:end-1])\n",
    "            dw = grad(dv, dparams[pidx])\n",
    "            layers[pidx].matrix .-=0.1*dw\n",
    "        end\n",
    "    end\n",
    "    otrain = f(xtrain)\n",
    "    otest = f(xtest)\n",
    "    push!(acc_train_plot, acc(o, ytrain))\n",
    "    push!(loss_train_plot, nll(o, ytrain))\n",
    "    push!(acc_test_plot, acc(o, ytest))\n",
    "    push!(loss_test_plot, nll(o, ytest))\n",
    "end"
   ]
  },
  {
   "cell_type": "code",
   "execution_count": null,
   "metadata": {
    "scrolled": false
   },
   "outputs": [],
   "source": [
    "plot([acc_plot], linewidth=2, title=\"Accuracy\")"
   ]
  },
  {
   "cell_type": "code",
   "execution_count": null,
   "metadata": {},
   "outputs": [],
   "source": [
    "plot([loss_plot], linewidth=2, title=\"Loss\")"
   ]
  },
  {
   "cell_type": "code",
   "execution_count": null,
   "metadata": {},
   "outputs": [],
   "source": []
  }
 ],
 "metadata": {
  "@webio": {
   "lastCommId": null,
   "lastKernelId": null
  },
  "kernelspec": {
   "display_name": "Julia (4 threads) 1.1.0",
   "language": "julia",
   "name": "julia-(4-threads)-1.1"
  },
  "language_info": {
   "file_extension": ".jl",
   "mimetype": "application/julia",
   "name": "julia",
   "version": "1.1.0"
  }
 },
 "nbformat": 4,
 "nbformat_minor": 2
}
