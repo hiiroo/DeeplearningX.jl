{
 "cells": [
  {
   "cell_type": "code",
   "execution_count": 1,
   "metadata": {},
   "outputs": [
    {
     "name": "stderr",
     "output_type": "stream",
     "text": [
      "┌ Info: Recompiling stale cache file /Users/mertceylan/.julia/compiled/v1.1/Deeplearning/gtjFf.ji for Deeplearning [0d5bc7a0-39dd-11e9-2aab-59c8d4b467de]\n",
      "└ @ Base loading.jl:1184\n",
      "┌ Warning: Package Deeplearning does not have LinearAlgebra in its dependencies:\n",
      "│ - If you have Deeplearning checked out for development and have\n",
      "│   added LinearAlgebra as a dependency but haven't updated your primary\n",
      "│   environment's manifest file, try `Pkg.resolve()`.\n",
      "│ - Otherwise you may need to report an issue with Deeplearning\n",
      "└ Loading LinearAlgebra into Deeplearning from project dependency, future warnings for Deeplearning are suppressed.\n"
     ]
    }
   ],
   "source": [
    "using AutoGrad\n",
    "using Deeplearning\n",
    "using Statistics\n",
    "using StatsBase\n",
    "using Plots\n",
    "import CSV"
   ]
  },
  {
   "cell_type": "code",
   "execution_count": 2,
   "metadata": {},
   "outputs": [
    {
     "data": {
      "text/plain": [
       "0.01"
      ]
     },
     "execution_count": 2,
     "metadata": {},
     "output_type": "execute_result"
    }
   ],
   "source": [
    "batch = 100\n",
    "learning_rate = 10e-3"
   ]
  },
  {
   "cell_type": "code",
   "execution_count": 3,
   "metadata": {
    "scrolled": true
   },
   "outputs": [],
   "source": [
    "# test = CSV.read(\"datasets/digit-recognizer/test.csv\")"
   ]
  },
  {
   "cell_type": "code",
   "execution_count": 4,
   "metadata": {
    "scrolled": true
   },
   "outputs": [
    {
     "name": "stdout",
     "output_type": "stream",
     "text": [
      "Ready...\n"
     ]
    }
   ],
   "source": [
    "train = CSV.read(\"datasets/digit-recognizer/train.csv\")\n",
    "xtrain = []\n",
    "ytrain = []\n",
    "for i in 1:size(train)[1]\n",
    "    max = maximum(train[i,2:end])+0.1\n",
    "    normalized = reshape(train[i, 2:end]./(max), (28,28,1,1))\n",
    "    push!(xtrain, normalized)\n",
    "    push!(ytrain, train[i,1]+1)\n",
    "end\n",
    "println(\"Ready...\")"
   ]
  },
  {
   "cell_type": "code",
   "execution_count": 5,
   "metadata": {
    "scrolled": true
   },
   "outputs": [
    {
     "name": "stdout",
     "output_type": "stream",
     "text": [
      "Ready...\n"
     ]
    }
   ],
   "source": [
    "input = @cudaarray rand(28, 28, 1, 10)\n",
    "w1 = ((rand(3,3,1,6).-0.5)./100)\n",
    "w2 = ((rand(3,3,6,16).-0.5)./100)\n",
    "println(\"Ready...\")"
   ]
  },
  {
   "cell_type": "code",
   "execution_count": 6,
   "metadata": {
    "scrolled": true
   },
   "outputs": [
    {
     "name": "stdout",
     "output_type": "stream",
     "text": [
      "Loaded\n"
     ]
    }
   ],
   "source": [
    "conv1 = convolve(input, w1, (2,2), (1,1))\n",
    "x = conv1(input)\n",
    "# pool1 = avgpooling(x, (2,2), (2,2), (1,1))\n",
    "# x = pool1(x)\n",
    "conv2 = convolve(x, w2, (2,2), (1,1))\n",
    "x = conv2(x)\n",
    "# pool2 = avgpooling(x, (2,2), (2,2), (1,1))\n",
    "# x = pool2(x)\n",
    "dense1 = dense(x, 120)\n",
    "x = dense1(x)\n",
    "dense2 = dense(x, 84)\n",
    "x = dense2(x)\n",
    "dense3 = dense(x, 10)\n",
    "layers=[dense3,dense2,dense1,conv2,conv1]\n",
    "println(\"Loaded\")"
   ]
  },
  {
   "cell_type": "code",
   "execution_count": 7,
   "metadata": {
    "scrolled": true
   },
   "outputs": [
    {
     "data": {
      "text/plain": [
       "f (generic function with 1 method)"
      ]
     },
     "execution_count": 7,
     "metadata": {},
     "output_type": "execute_result"
    }
   ],
   "source": [
    "function f(x)\n",
    "    x = conv1(x)\n",
    "    x = relu(x)\n",
    "#     x = pool1(x)\n",
    "    \n",
    "    x = conv2(x)\n",
    "    x = relu(x)\n",
    "#     x = pool2(x)\n",
    "    \n",
    "    x = dense1(x)\n",
    "    x = relu(x)\n",
    "\n",
    "    x = dense2(x)\n",
    "    x = relu(x)\n",
    "\n",
    "    x = dense3(x)\n",
    "    x = softmax(x)\n",
    "end"
   ]
  },
  {
   "cell_type": "code",
   "execution_count": 8,
   "metadata": {
    "scrolled": true
   },
   "outputs": [
    {
     "data": {
      "text/plain": [
       "0-element Array{Any,1}"
      ]
     },
     "execution_count": 8,
     "metadata": {},
     "output_type": "execute_result"
    }
   ],
   "source": [
    "acc_train_plot = []\n",
    "acc_test_plot = []\n",
    "loss_train_plot = []\n",
    "loss_test_plot = []"
   ]
  },
  {
   "cell_type": "code",
   "execution_count": null,
   "metadata": {
    "scrolled": true
   },
   "outputs": [],
   "source": [
    "dff(x,y) = @diff nll(f(x), y)\n",
    "\n",
    "for e in 1:2\n",
    "    println(\"Epoch \", e)\n",
    "    indices = sample(1:size(train)[1], size(train)[1], replace = false)\n",
    "    for (ei,si) in enumerate(1:batch:size(indices)[1])\n",
    "        sample_batch_x, sample_batch_y = cat(xtrain[indices[(si):(ei)*batch]]..., dims=4), ytrain[indices[(si):(ei)*batch]]\n",
    "\n",
    "        dv = dff(sample_batch_x, sample_batch_y)\n",
    "\n",
    "        dparams = @parameters dv\n",
    "\n",
    "        for pidx in 1:length(dparams[1:end-1])\n",
    "            dw = grad(dv, dparams[pidx])\n",
    "            layers[pidx].matrix .-=learning_rate*dw\n",
    "        end\n",
    "    end\n",
    "    otrain = cat(f.(xtrain), dims=2)\n",
    "#     otest = f(xtest)\n",
    "    push!(acc_train_plot, acc(otrain, ytrain))\n",
    "    push!(loss_train_plot, nll(otrain, ytrain))\n",
    "#     push!(acc_test_plot, acc(o, ytest))\n",
    "#     push!(loss_test_plot, nll(o, ytest))\n",
    "end"
   ]
  },
  {
   "cell_type": "code",
   "execution_count": null,
   "metadata": {
    "scrolled": false
   },
   "outputs": [],
   "source": [
    "plot([acc_train_plot, acc_test_plot], linewidth=2, title=\"Accuracy\")"
   ]
  },
  {
   "cell_type": "code",
   "execution_count": null,
   "metadata": {},
   "outputs": [],
   "source": [
    "plot([loss_train_plot, loss_test_plot], linewidth=2, title=\"Loss\")"
   ]
  },
  {
   "cell_type": "code",
   "execution_count": null,
   "metadata": {},
   "outputs": [],
   "source": [
    "loss_train_plot"
   ]
  },
  {
   "cell_type": "code",
   "execution_count": null,
   "metadata": {},
   "outputs": [],
   "source": [
    "f(xtrain[2])"
   ]
  },
  {
   "cell_type": "code",
   "execution_count": null,
   "metadata": {},
   "outputs": [],
   "source": []
  }
 ],
 "metadata": {
  "@webio": {
   "lastCommId": null,
   "lastKernelId": null
  },
  "kernelspec": {
   "display_name": "Julia (4 threads) 1.1.0",
   "language": "julia",
   "name": "julia-(4-threads)-1.1"
  },
  "language_info": {
   "file_extension": ".jl",
   "mimetype": "application/julia",
   "name": "julia",
   "version": "1.1.0"
  }
 },
 "nbformat": 4,
 "nbformat_minor": 2
}
