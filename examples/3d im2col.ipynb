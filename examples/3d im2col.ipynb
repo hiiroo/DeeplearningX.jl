{
 "cells": [
  {
   "cell_type": "code",
   "execution_count": null,
   "metadata": {},
   "outputs": [],
   "source": [
    "\"Convolution operation. Used by @convolve macro to create a\n",
    "convolution operation with specified input, kernel, stride\n",
    "and dilation configuration\"\n",
    "mutable struct Convolution\n",
    "    \"Convolution matrix. @convolve macro creates the\n",
    "    convolution matrix with respect to the expected inputsize\"\n",
    "    matrix\n",
    "    \"Convolution kernel function. @convolve macro creates\n",
    "    a function to retrieve convolution kernels from convolution matrix\"\n",
    "    kernel\n",
    "    f\n",
    "end"
   ]
  },
  {
   "cell_type": "code",
   "execution_count": null,
   "metadata": {},
   "outputs": [],
   "source": [
    "_dimcheck_convolutionkernel(inputsize::Tuple{Int, Int}, kernelsize::Tuple{Int, Int}) = prod(inputsize .> kernelsize) || throw(ArgumentError(\"Kernel size $kernelsize cannot be larger than Input size $inputsize\"))\n",
    "\n",
    "_kernelsize(kernelsize::Tuple{Int, Int}, dilations::Tuple{Int, Int}) = ((dilations .* kernelsize) .- (dilations.-1))\n",
    "_featuremapsize(inputsize::Tuple{Int, Int}, kernelsize::Tuple{Int, Int}, strides::Tuple{Int, Int}) = div.(inputsize .- kernelsize, strides) .+ 1\n",
    "_convolutionkernelmargin(inputsize::Tuple{Int, Int}, kernelsize::Tuple{Int, Int}) = Int.(ceil.(inputsize .% kernelsize))\n",
    "\n",
    "\n",
    "\"Creates convolution matrix according to given input, kernel, stride and dilation configuration\"\n",
    "function im2col(weight, input_size::Tuple{Int, Int}, kernel_size::Tuple{Int, Int}, strides::Tuple{Int, Int}, dilations::Tuple{Int, Int}, fm_size::Tuple{Int, Int})\n",
    "    margin = input_size.%fm_size\n",
    "    ap=[]\n",
    "    for i in 1:strides[1]:(fm_size[1]*strides[1])\n",
    "        for j in 1:strides[2]:(fm_size[2]*strides[2])\n",
    "            t1 = zeros(input_size)\n",
    "            t1[i:dilations[1]:(i+kernel_size[1]-1), j:dilations[2]:(j+kernel_size[2]-1)] = weight'\n",
    "            ap = prod(size(ap) .<= 0) ? t1'[:] : hcat(ap, t1'[:])\n",
    "        end\n",
    "    end\n",
    "\n",
    "    return ap\n",
    "end"
   ]
  },
  {
   "cell_type": "code",
   "execution_count": null,
   "metadata": {},
   "outputs": [],
   "source": [
    "\"Fetches convolution kernel from given convolution matrix, input_size, kernel size, stride and dilation configuration\"\n",
    "function col2im(conv_matrix, input_size::Tuple{Int, Int}, weight_size::Tuple{Int, Int}, strides::Tuple{Int, Int}, dilations::Tuple{Int, Int})\n",
    "    kernel_size = _kernelsize(weight_size, dilations)\n",
    "\n",
    "    _dimcheck_convolutionkernel(input_size, kernel_size)\n",
    "    fm_size = _featuremapsize(input_size, kernel_size, strides)\n",
    "    margin = _convolutionkernelmargin(input_size, kernel_size)\n",
    "\n",
    "    cki = 1\n",
    "    ck = zeros(weight_size)\n",
    "    for i in (1+margin[1]):strides[1]:(input_size[1]-margin[2])\n",
    "        for j in (1+margin[1]):strides[2]:(input_size[2]-margin[2])\n",
    "            temp_ck = reshape(conv_matrix[:,cki], input_size)'[i-margin[1]:dilations[1]:(i+(margin[1])), j-margin[1]:dilations[2]:(j+(margin[1]))]\n",
    "            ck .+= temp_ck'\n",
    "            cki+=1\n",
    "        end\n",
    "    end\n",
    "\n",
    "    return ck ./(size(conv_matrix)[2])\n",
    "end"
   ]
  },
  {
   "cell_type": "code",
   "execution_count": null,
   "metadata": {},
   "outputs": [],
   "source": [
    "i = rand(13,13,6,10)\n",
    "k = rand(3,3,6,2)\n",
    "s = (1,1)\n",
    "d = (1,1)\n",
    "\n",
    "strides = length(s) < 2 ? (s, s) : s\n",
    "\n",
    "dilations = length(d) < 2 ? (d, d) : d\n",
    "\n",
    "input_size = size(i)[1:2]\n",
    "kernel_size = _kernelsize(size(k)[1:2], dilations)\n",
    "\n",
    "_dimcheck_convolutionkernel(input_size, kernel_size)\n",
    "fm_size = _featuremapsize(input_size, kernel_size, strides)"
   ]
  },
  {
   "cell_type": "code",
   "execution_count": null,
   "metadata": {},
   "outputs": [],
   "source": [
    "t1 = cat([cat([im2col(k[:,:,ki,ci], input_size, kernel_size, strides, dilations, fm_size) for ki in 1:size(k)[3]]...,dims=3) for ci in 1:size(k)[4]]...,dims=4)\n",
    "cut1 = permutedims(t1,(2,1,3,4))"
   ]
  },
  {
   "cell_type": "code",
   "execution_count": null,
   "metadata": {},
   "outputs": [],
   "source": [
    "cop = Convolution(cut1, nothing, nothing)\n",
    "cop.kernel = ()->cat([cat([col2im(collect(cop.matrix[:,:,ki,ci])', input_size, size(k)[1:2], strides, dilations) for ki in 1:size(k)[3]]...,dims=3) for ci in 1:size(k)[4]]...,dims=4)\n",
    "# col2im(collect(cop.matrix[:,:,1,1])', input_size, size(k)[1:2], strides, dilations)"
   ]
  },
  {
   "cell_type": "code",
   "execution_count": null,
   "metadata": {
    "scrolled": true
   },
   "outputs": [],
   "source": [
    "cop.kernel()"
   ]
  },
  {
   "cell_type": "code",
   "execution_count": null,
   "metadata": {},
   "outputs": [],
   "source": [
    "function convit(x)\n",
    "    x_size = size(x)\n",
    "    x_channels = x_size[3]\n",
    "    x_batch = x_size[4]\n",
    "   \n",
    "    cm_size = size(cop.matrix)\n",
    "    cm_channels = cm_size[4]\n",
    "    \n",
    "    reshaped_x = reshape(x, (prod(size(x)[1:3]), x_batch))\n",
    "    return reshape(cat([reshape(reshape(cop.matrix[:,:,:,cmi], (cm_size[1], prod(cm_size[2:3])))*reshaped_x, (prod(fm_size), 1, x_batch)) for cmi in 1:cm_channels]...,dims=2), (fm_size..., cm_channels, x_batch))\n",
    "end"
   ]
  },
  {
   "cell_type": "code",
   "execution_count": null,
   "metadata": {
    "scrolled": true
   },
   "outputs": [],
   "source": [
    "convit(i)"
   ]
  },
  {
   "cell_type": "code",
   "execution_count": null,
   "metadata": {},
   "outputs": [],
   "source": []
  }
 ],
 "metadata": {
  "@webio": {
   "lastCommId": null,
   "lastKernelId": null
  },
  "kernelspec": {
   "display_name": "Julia 1.1.0",
   "language": "julia",
   "name": "julia-1.1"
  },
  "language_info": {
   "file_extension": ".jl",
   "mimetype": "application/julia",
   "name": "julia",
   "version": "1.1.0"
  }
 },
 "nbformat": 4,
 "nbformat_minor": 2
}
